{
 "cells": [
  {
   "cell_type": "code",
   "execution_count": 2,
   "metadata": {},
   "outputs": [],
   "source": [
    "import sympy\n",
    "import numpy as np\n",
    "import utils\n"
   ]
  },
  {
   "cell_type": "code",
   "execution_count": 19,
   "metadata": {},
   "outputs": [],
   "source": [
    "def make_Qmat(q):\n",
    "    \"\"\"Produce upper-triangular relaxation-only single-qubit response.\"\"\"\n",
    "    return sympy.Matrix([\n",
    "                [1, q],\n",
    "                [0, 1-q],\n",
    "            ])"
   ]
  },
  {
   "cell_type": "code",
   "execution_count": 29,
   "metadata": {},
   "outputs": [],
   "source": [
    "n = 4 # number of bits\n",
    "sym_str = \",\".join([f\"q{i}\" for i in range(n)])\n",
    "qvals = sympy.symbols(sym_str)\n",
    "Qmats = [make_Qmat(s) for s in qvals]"
   ]
  },
  {
   "cell_type": "markdown",
   "metadata": {},
   "source": [
    "Generate full response matrix over sorted indices"
   ]
  },
  {
   "cell_type": "code",
   "execution_count": 30,
   "metadata": {},
   "outputs": [],
   "source": [
    "idx_sort = utils.idxsort_by_weight(n)\n",
    "R = sympy.kronecker_product(*Qmats)[idx_sort,:][:,idx_sort]"
   ]
  },
  {
   "cell_type": "code",
   "execution_count": 31,
   "metadata": {},
   "outputs": [
    {
     "data": {
      "text/latex": [
       "$\\displaystyle \\left[\\begin{array}{cccccccccccccccc}1 & q_{3} & q_{2} & q_{1} & q_{0} & q_{2} q_{3} & q_{1} q_{3} & q_{1} q_{2} & q_{0} q_{3} & q_{0} q_{2} & q_{0} q_{1} & q_{1} q_{2} q_{3} & q_{0} q_{2} q_{3} & q_{0} q_{1} q_{3} & q_{0} q_{1} q_{2} & q_{0} q_{1} q_{2} q_{3}\\\\0 & 1 - q_{3} & 0 & 0 & 0 & q_{2} \\left(1 - q_{3}\\right) & q_{1} \\left(1 - q_{3}\\right) & 0 & q_{0} \\left(1 - q_{3}\\right) & 0 & 0 & q_{1} q_{2} \\left(1 - q_{3}\\right) & q_{0} q_{2} \\left(1 - q_{3}\\right) & q_{0} q_{1} \\left(1 - q_{3}\\right) & 0 & q_{0} q_{1} q_{2} \\left(1 - q_{3}\\right)\\\\0 & 0 & 1 - q_{2} & 0 & 0 & q_{3} \\left(1 - q_{2}\\right) & 0 & q_{1} \\left(1 - q_{2}\\right) & 0 & q_{0} \\left(1 - q_{2}\\right) & 0 & q_{1} q_{3} \\left(1 - q_{2}\\right) & q_{0} q_{3} \\left(1 - q_{2}\\right) & 0 & q_{0} q_{1} \\left(1 - q_{2}\\right) & q_{0} q_{1} q_{3} \\left(1 - q_{2}\\right)\\\\0 & 0 & 0 & 1 - q_{1} & 0 & 0 & q_{3} \\left(1 - q_{1}\\right) & q_{2} \\left(1 - q_{1}\\right) & 0 & 0 & q_{0} \\left(1 - q_{1}\\right) & q_{2} q_{3} \\left(1 - q_{1}\\right) & 0 & q_{0} q_{3} \\left(1 - q_{1}\\right) & q_{0} q_{2} \\left(1 - q_{1}\\right) & q_{0} q_{2} q_{3} \\left(1 - q_{1}\\right)\\\\0 & 0 & 0 & 0 & 1 - q_{0} & 0 & 0 & 0 & q_{3} \\left(1 - q_{0}\\right) & q_{2} \\left(1 - q_{0}\\right) & q_{1} \\left(1 - q_{0}\\right) & 0 & q_{2} q_{3} \\left(1 - q_{0}\\right) & q_{1} q_{3} \\left(1 - q_{0}\\right) & q_{1} q_{2} \\left(1 - q_{0}\\right) & q_{1} q_{2} q_{3} \\left(1 - q_{0}\\right)\\\\0 & 0 & 0 & 0 & 0 & \\left(1 - q_{2}\\right) \\left(1 - q_{3}\\right) & 0 & 0 & 0 & 0 & 0 & q_{1} \\left(1 - q_{2}\\right) \\left(1 - q_{3}\\right) & q_{0} \\left(1 - q_{2}\\right) \\left(1 - q_{3}\\right) & 0 & 0 & q_{0} q_{1} \\left(1 - q_{2}\\right) \\left(1 - q_{3}\\right)\\\\0 & 0 & 0 & 0 & 0 & 0 & \\left(1 - q_{1}\\right) \\left(1 - q_{3}\\right) & 0 & 0 & 0 & 0 & q_{2} \\left(1 - q_{1}\\right) \\left(1 - q_{3}\\right) & 0 & q_{0} \\left(1 - q_{1}\\right) \\left(1 - q_{3}\\right) & 0 & q_{0} q_{2} \\left(1 - q_{1}\\right) \\left(1 - q_{3}\\right)\\\\0 & 0 & 0 & 0 & 0 & 0 & 0 & \\left(1 - q_{1}\\right) \\left(1 - q_{2}\\right) & 0 & 0 & 0 & q_{3} \\left(1 - q_{1}\\right) \\left(1 - q_{2}\\right) & 0 & 0 & q_{0} \\left(1 - q_{1}\\right) \\left(1 - q_{2}\\right) & q_{0} q_{3} \\left(1 - q_{1}\\right) \\left(1 - q_{2}\\right)\\\\0 & 0 & 0 & 0 & 0 & 0 & 0 & 0 & \\left(1 - q_{0}\\right) \\left(1 - q_{3}\\right) & 0 & 0 & 0 & q_{2} \\left(1 - q_{0}\\right) \\left(1 - q_{3}\\right) & q_{1} \\left(1 - q_{0}\\right) \\left(1 - q_{3}\\right) & 0 & q_{1} q_{2} \\left(1 - q_{0}\\right) \\left(1 - q_{3}\\right)\\\\0 & 0 & 0 & 0 & 0 & 0 & 0 & 0 & 0 & \\left(1 - q_{0}\\right) \\left(1 - q_{2}\\right) & 0 & 0 & q_{3} \\left(1 - q_{0}\\right) \\left(1 - q_{2}\\right) & 0 & q_{1} \\left(1 - q_{0}\\right) \\left(1 - q_{2}\\right) & q_{1} q_{3} \\left(1 - q_{0}\\right) \\left(1 - q_{2}\\right)\\\\0 & 0 & 0 & 0 & 0 & 0 & 0 & 0 & 0 & 0 & \\left(1 - q_{0}\\right) \\left(1 - q_{1}\\right) & 0 & 0 & q_{3} \\left(1 - q_{0}\\right) \\left(1 - q_{1}\\right) & q_{2} \\left(1 - q_{0}\\right) \\left(1 - q_{1}\\right) & q_{2} q_{3} \\left(1 - q_{0}\\right) \\left(1 - q_{1}\\right)\\\\0 & 0 & 0 & 0 & 0 & 0 & 0 & 0 & 0 & 0 & 0 & \\left(1 - q_{1}\\right) \\left(1 - q_{2}\\right) \\left(1 - q_{3}\\right) & 0 & 0 & 0 & q_{0} \\left(1 - q_{1}\\right) \\left(1 - q_{2}\\right) \\left(1 - q_{3}\\right)\\\\0 & 0 & 0 & 0 & 0 & 0 & 0 & 0 & 0 & 0 & 0 & 0 & \\left(1 - q_{0}\\right) \\left(1 - q_{2}\\right) \\left(1 - q_{3}\\right) & 0 & 0 & q_{1} \\left(1 - q_{0}\\right) \\left(1 - q_{2}\\right) \\left(1 - q_{3}\\right)\\\\0 & 0 & 0 & 0 & 0 & 0 & 0 & 0 & 0 & 0 & 0 & 0 & 0 & \\left(1 - q_{0}\\right) \\left(1 - q_{1}\\right) \\left(1 - q_{3}\\right) & 0 & q_{2} \\left(1 - q_{0}\\right) \\left(1 - q_{1}\\right) \\left(1 - q_{3}\\right)\\\\0 & 0 & 0 & 0 & 0 & 0 & 0 & 0 & 0 & 0 & 0 & 0 & 0 & 0 & \\left(1 - q_{0}\\right) \\left(1 - q_{1}\\right) \\left(1 - q_{2}\\right) & q_{3} \\left(1 - q_{0}\\right) \\left(1 - q_{1}\\right) \\left(1 - q_{2}\\right)\\\\0 & 0 & 0 & 0 & 0 & 0 & 0 & 0 & 0 & 0 & 0 & 0 & 0 & 0 & 0 & \\left(1 - q_{0}\\right) \\left(1 - q_{1}\\right) \\left(1 - q_{2}\\right) \\left(1 - q_{3}\\right)\\end{array}\\right]$"
      ],
      "text/plain": [
       "Matrix([\n",
       "[1,     q3,     q2,     q1,     q0,             q2*q3,             q1*q3,             q1*q2,             q0*q3,             q0*q2,             q0*q1,                   q1*q2*q3,                   q0*q2*q3,                   q0*q1*q3,                   q0*q1*q2,                         q0*q1*q2*q3],\n",
       "[0, 1 - q3,      0,      0,      0,       q2*(1 - q3),       q1*(1 - q3),                 0,       q0*(1 - q3),                 0,                 0,             q1*q2*(1 - q3),             q0*q2*(1 - q3),             q0*q1*(1 - q3),                          0,                   q0*q1*q2*(1 - q3)],\n",
       "[0,      0, 1 - q2,      0,      0,       q3*(1 - q2),                 0,       q1*(1 - q2),                 0,       q0*(1 - q2),                 0,             q1*q3*(1 - q2),             q0*q3*(1 - q2),                          0,             q0*q1*(1 - q2),                   q0*q1*q3*(1 - q2)],\n",
       "[0,      0,      0, 1 - q1,      0,                 0,       q3*(1 - q1),       q2*(1 - q1),                 0,                 0,       q0*(1 - q1),             q2*q3*(1 - q1),                          0,             q0*q3*(1 - q1),             q0*q2*(1 - q1),                   q0*q2*q3*(1 - q1)],\n",
       "[0,      0,      0,      0, 1 - q0,                 0,                 0,                 0,       q3*(1 - q0),       q2*(1 - q0),       q1*(1 - q0),                          0,             q2*q3*(1 - q0),             q1*q3*(1 - q0),             q1*q2*(1 - q0),                   q1*q2*q3*(1 - q0)],\n",
       "[0,      0,      0,      0,      0, (1 - q2)*(1 - q3),                 0,                 0,                 0,                 0,                 0,       q1*(1 - q2)*(1 - q3),       q0*(1 - q2)*(1 - q3),                          0,                          0,             q0*q1*(1 - q2)*(1 - q3)],\n",
       "[0,      0,      0,      0,      0,                 0, (1 - q1)*(1 - q3),                 0,                 0,                 0,                 0,       q2*(1 - q1)*(1 - q3),                          0,       q0*(1 - q1)*(1 - q3),                          0,             q0*q2*(1 - q1)*(1 - q3)],\n",
       "[0,      0,      0,      0,      0,                 0,                 0, (1 - q1)*(1 - q2),                 0,                 0,                 0,       q3*(1 - q1)*(1 - q2),                          0,                          0,       q0*(1 - q1)*(1 - q2),             q0*q3*(1 - q1)*(1 - q2)],\n",
       "[0,      0,      0,      0,      0,                 0,                 0,                 0, (1 - q0)*(1 - q3),                 0,                 0,                          0,       q2*(1 - q0)*(1 - q3),       q1*(1 - q0)*(1 - q3),                          0,             q1*q2*(1 - q0)*(1 - q3)],\n",
       "[0,      0,      0,      0,      0,                 0,                 0,                 0,                 0, (1 - q0)*(1 - q2),                 0,                          0,       q3*(1 - q0)*(1 - q2),                          0,       q1*(1 - q0)*(1 - q2),             q1*q3*(1 - q0)*(1 - q2)],\n",
       "[0,      0,      0,      0,      0,                 0,                 0,                 0,                 0,                 0, (1 - q0)*(1 - q1),                          0,                          0,       q3*(1 - q0)*(1 - q1),       q2*(1 - q0)*(1 - q1),             q2*q3*(1 - q0)*(1 - q1)],\n",
       "[0,      0,      0,      0,      0,                 0,                 0,                 0,                 0,                 0,                 0, (1 - q1)*(1 - q2)*(1 - q3),                          0,                          0,                          0,       q0*(1 - q1)*(1 - q2)*(1 - q3)],\n",
       "[0,      0,      0,      0,      0,                 0,                 0,                 0,                 0,                 0,                 0,                          0, (1 - q0)*(1 - q2)*(1 - q3),                          0,                          0,       q1*(1 - q0)*(1 - q2)*(1 - q3)],\n",
       "[0,      0,      0,      0,      0,                 0,                 0,                 0,                 0,                 0,                 0,                          0,                          0, (1 - q0)*(1 - q1)*(1 - q3),                          0,       q2*(1 - q0)*(1 - q1)*(1 - q3)],\n",
       "[0,      0,      0,      0,      0,                 0,                 0,                 0,                 0,                 0,                 0,                          0,                          0,                          0, (1 - q0)*(1 - q1)*(1 - q2),       q3*(1 - q0)*(1 - q1)*(1 - q2)],\n",
       "[0,      0,      0,      0,      0,                 0,                 0,                 0,                 0,                 0,                 0,                          0,                          0,                          0,                          0, (1 - q0)*(1 - q1)*(1 - q2)*(1 - q3)]])"
      ]
     },
     "execution_count": 31,
     "metadata": {},
     "output_type": "execute_result"
    }
   ],
   "source": [
    "R"
   ]
  },
  {
   "cell_type": "code",
   "execution_count": 32,
   "metadata": {},
   "outputs": [
    {
     "data": {
      "text/latex": [
       "$\\displaystyle \\left[\\begin{array}{cccccccccccccccc}1 & - \\frac{q_{3}}{1 - q_{3}} & - \\frac{q_{2}}{1 - q_{2}} & - \\frac{q_{1}}{1 - q_{1}} & - \\frac{q_{0}}{1 - q_{0}} & \\frac{q_{2} q_{3}}{\\left(1 - q_{2}\\right) \\left(1 - q_{3}\\right)} & \\frac{q_{1} q_{3}}{\\left(1 - q_{1}\\right) \\left(1 - q_{3}\\right)} & \\frac{q_{1} q_{2}}{\\left(1 - q_{1}\\right) \\left(1 - q_{2}\\right)} & \\frac{q_{0} q_{3}}{\\left(1 - q_{0}\\right) \\left(1 - q_{3}\\right)} & \\frac{q_{0} q_{2}}{\\left(1 - q_{0}\\right) \\left(1 - q_{2}\\right)} & \\frac{q_{0} q_{1}}{\\left(1 - q_{0}\\right) \\left(1 - q_{1}\\right)} & - \\frac{q_{1} q_{2} q_{3}}{\\left(1 - q_{1}\\right) \\left(1 - q_{2}\\right) \\left(1 - q_{3}\\right)} & - \\frac{q_{0} q_{2} q_{3}}{\\left(1 - q_{0}\\right) \\left(1 - q_{2}\\right) \\left(1 - q_{3}\\right)} & - \\frac{q_{0} q_{1} q_{3}}{\\left(1 - q_{0}\\right) \\left(1 - q_{1}\\right) \\left(1 - q_{3}\\right)} & - \\frac{q_{0} q_{1} q_{2}}{\\left(1 - q_{0}\\right) \\left(1 - q_{1}\\right) \\left(1 - q_{2}\\right)} & \\frac{q_{0} q_{1} q_{2} q_{3}}{\\left(1 - q_{0}\\right) \\left(1 - q_{1}\\right) \\left(1 - q_{2}\\right) \\left(1 - q_{3}\\right)}\\\\0 & \\frac{1}{1 - q_{3}} & 0 & 0 & 0 & - \\frac{q_{2}}{\\left(1 - q_{2}\\right) \\left(1 - q_{3}\\right)} & - \\frac{q_{1}}{\\left(1 - q_{1}\\right) \\left(1 - q_{3}\\right)} & 0 & - \\frac{q_{0}}{\\left(1 - q_{0}\\right) \\left(1 - q_{3}\\right)} & 0 & 0 & \\frac{q_{1} q_{2}}{\\left(1 - q_{1}\\right) \\left(1 - q_{2}\\right) \\left(1 - q_{3}\\right)} & \\frac{q_{0} q_{2}}{\\left(1 - q_{0}\\right) \\left(1 - q_{2}\\right) \\left(1 - q_{3}\\right)} & \\frac{q_{0} q_{1}}{\\left(1 - q_{0}\\right) \\left(1 - q_{1}\\right) \\left(1 - q_{3}\\right)} & 0 & - \\frac{q_{0} q_{1} q_{2}}{\\left(1 - q_{0}\\right) \\left(1 - q_{1}\\right) \\left(1 - q_{2}\\right) \\left(1 - q_{3}\\right)}\\\\0 & 0 & \\frac{1}{1 - q_{2}} & 0 & 0 & - \\frac{q_{3}}{\\left(1 - q_{2}\\right) \\left(1 - q_{3}\\right)} & 0 & - \\frac{q_{1}}{\\left(1 - q_{1}\\right) \\left(1 - q_{2}\\right)} & 0 & - \\frac{q_{0}}{\\left(1 - q_{0}\\right) \\left(1 - q_{2}\\right)} & 0 & \\frac{q_{1} q_{3}}{\\left(1 - q_{1}\\right) \\left(1 - q_{2}\\right) \\left(1 - q_{3}\\right)} & \\frac{q_{0} q_{3}}{\\left(1 - q_{0}\\right) \\left(1 - q_{2}\\right) \\left(1 - q_{3}\\right)} & 0 & \\frac{q_{0} q_{1}}{\\left(1 - q_{0}\\right) \\left(1 - q_{1}\\right) \\left(1 - q_{2}\\right)} & - \\frac{q_{0} q_{1} q_{3}}{\\left(1 - q_{0}\\right) \\left(1 - q_{1}\\right) \\left(1 - q_{2}\\right) \\left(1 - q_{3}\\right)}\\\\0 & 0 & 0 & \\frac{1}{1 - q_{1}} & 0 & 0 & - \\frac{q_{3}}{\\left(1 - q_{1}\\right) \\left(1 - q_{3}\\right)} & - \\frac{q_{2}}{\\left(1 - q_{1}\\right) \\left(1 - q_{2}\\right)} & 0 & 0 & - \\frac{q_{0}}{\\left(1 - q_{0}\\right) \\left(1 - q_{1}\\right)} & \\frac{q_{2} q_{3}}{\\left(1 - q_{1}\\right) \\left(1 - q_{2}\\right) \\left(1 - q_{3}\\right)} & 0 & \\frac{q_{0} q_{3}}{\\left(1 - q_{0}\\right) \\left(1 - q_{1}\\right) \\left(1 - q_{3}\\right)} & \\frac{q_{0} q_{2}}{\\left(1 - q_{0}\\right) \\left(1 - q_{1}\\right) \\left(1 - q_{2}\\right)} & - \\frac{q_{0} q_{2} q_{3}}{\\left(1 - q_{0}\\right) \\left(1 - q_{1}\\right) \\left(1 - q_{2}\\right) \\left(1 - q_{3}\\right)}\\\\0 & 0 & 0 & 0 & \\frac{1}{1 - q_{0}} & 0 & 0 & 0 & - \\frac{q_{3}}{\\left(1 - q_{0}\\right) \\left(1 - q_{3}\\right)} & - \\frac{q_{2}}{\\left(1 - q_{0}\\right) \\left(1 - q_{2}\\right)} & - \\frac{q_{1}}{\\left(1 - q_{0}\\right) \\left(1 - q_{1}\\right)} & 0 & \\frac{q_{2} q_{3}}{\\left(1 - q_{0}\\right) \\left(1 - q_{2}\\right) \\left(1 - q_{3}\\right)} & \\frac{q_{1} q_{3}}{\\left(1 - q_{0}\\right) \\left(1 - q_{1}\\right) \\left(1 - q_{3}\\right)} & \\frac{q_{1} q_{2}}{\\left(1 - q_{0}\\right) \\left(1 - q_{1}\\right) \\left(1 - q_{2}\\right)} & - \\frac{q_{1} q_{2} q_{3}}{\\left(1 - q_{0}\\right) \\left(1 - q_{1}\\right) \\left(1 - q_{2}\\right) \\left(1 - q_{3}\\right)}\\\\0 & 0 & 0 & 0 & 0 & \\frac{1}{\\left(1 - q_{2}\\right) \\left(1 - q_{3}\\right)} & 0 & 0 & 0 & 0 & 0 & - \\frac{q_{1}}{\\left(1 - q_{1}\\right) \\left(1 - q_{2}\\right) \\left(1 - q_{3}\\right)} & - \\frac{q_{0}}{\\left(1 - q_{0}\\right) \\left(1 - q_{2}\\right) \\left(1 - q_{3}\\right)} & 0 & 0 & \\frac{q_{0} q_{1}}{\\left(1 - q_{0}\\right) \\left(1 - q_{1}\\right) \\left(1 - q_{2}\\right) \\left(1 - q_{3}\\right)}\\\\0 & 0 & 0 & 0 & 0 & 0 & \\frac{1}{\\left(1 - q_{1}\\right) \\left(1 - q_{3}\\right)} & 0 & 0 & 0 & 0 & - \\frac{q_{2}}{\\left(1 - q_{1}\\right) \\left(1 - q_{2}\\right) \\left(1 - q_{3}\\right)} & 0 & - \\frac{q_{0}}{\\left(1 - q_{0}\\right) \\left(1 - q_{1}\\right) \\left(1 - q_{3}\\right)} & 0 & \\frac{q_{0} q_{2}}{\\left(1 - q_{0}\\right) \\left(1 - q_{1}\\right) \\left(1 - q_{2}\\right) \\left(1 - q_{3}\\right)}\\\\0 & 0 & 0 & 0 & 0 & 0 & 0 & \\frac{1}{\\left(1 - q_{1}\\right) \\left(1 - q_{2}\\right)} & 0 & 0 & 0 & - \\frac{q_{3}}{\\left(1 - q_{1}\\right) \\left(1 - q_{2}\\right) \\left(1 - q_{3}\\right)} & 0 & 0 & - \\frac{q_{0}}{\\left(1 - q_{0}\\right) \\left(1 - q_{1}\\right) \\left(1 - q_{2}\\right)} & \\frac{q_{0} q_{3}}{\\left(1 - q_{0}\\right) \\left(1 - q_{1}\\right) \\left(1 - q_{2}\\right) \\left(1 - q_{3}\\right)}\\\\0 & 0 & 0 & 0 & 0 & 0 & 0 & 0 & \\frac{1}{\\left(1 - q_{0}\\right) \\left(1 - q_{3}\\right)} & 0 & 0 & 0 & - \\frac{q_{2}}{\\left(1 - q_{0}\\right) \\left(1 - q_{2}\\right) \\left(1 - q_{3}\\right)} & - \\frac{q_{1}}{\\left(1 - q_{0}\\right) \\left(1 - q_{1}\\right) \\left(1 - q_{3}\\right)} & 0 & \\frac{q_{1} q_{2}}{\\left(1 - q_{0}\\right) \\left(1 - q_{1}\\right) \\left(1 - q_{2}\\right) \\left(1 - q_{3}\\right)}\\\\0 & 0 & 0 & 0 & 0 & 0 & 0 & 0 & 0 & \\frac{1}{\\left(1 - q_{0}\\right) \\left(1 - q_{2}\\right)} & 0 & 0 & - \\frac{q_{3}}{\\left(1 - q_{0}\\right) \\left(1 - q_{2}\\right) \\left(1 - q_{3}\\right)} & 0 & - \\frac{q_{1}}{\\left(1 - q_{0}\\right) \\left(1 - q_{1}\\right) \\left(1 - q_{2}\\right)} & \\frac{q_{1} q_{3}}{\\left(1 - q_{0}\\right) \\left(1 - q_{1}\\right) \\left(1 - q_{2}\\right) \\left(1 - q_{3}\\right)}\\\\0 & 0 & 0 & 0 & 0 & 0 & 0 & 0 & 0 & 0 & \\frac{1}{\\left(1 - q_{0}\\right) \\left(1 - q_{1}\\right)} & 0 & 0 & - \\frac{q_{3}}{\\left(1 - q_{0}\\right) \\left(1 - q_{1}\\right) \\left(1 - q_{3}\\right)} & - \\frac{q_{2}}{\\left(1 - q_{0}\\right) \\left(1 - q_{1}\\right) \\left(1 - q_{2}\\right)} & \\frac{q_{2} q_{3}}{\\left(1 - q_{0}\\right) \\left(1 - q_{1}\\right) \\left(1 - q_{2}\\right) \\left(1 - q_{3}\\right)}\\\\0 & 0 & 0 & 0 & 0 & 0 & 0 & 0 & 0 & 0 & 0 & \\frac{1}{\\left(1 - q_{1}\\right) \\left(1 - q_{2}\\right) \\left(1 - q_{3}\\right)} & 0 & 0 & 0 & - \\frac{q_{0}}{\\left(1 - q_{0}\\right) \\left(1 - q_{1}\\right) \\left(1 - q_{2}\\right) \\left(1 - q_{3}\\right)}\\\\0 & 0 & 0 & 0 & 0 & 0 & 0 & 0 & 0 & 0 & 0 & 0 & \\frac{1}{\\left(1 - q_{0}\\right) \\left(1 - q_{2}\\right) \\left(1 - q_{3}\\right)} & 0 & 0 & - \\frac{q_{1}}{\\left(1 - q_{0}\\right) \\left(1 - q_{1}\\right) \\left(1 - q_{2}\\right) \\left(1 - q_{3}\\right)}\\\\0 & 0 & 0 & 0 & 0 & 0 & 0 & 0 & 0 & 0 & 0 & 0 & 0 & \\frac{1}{\\left(1 - q_{0}\\right) \\left(1 - q_{1}\\right) \\left(1 - q_{3}\\right)} & 0 & - \\frac{q_{2}}{\\left(1 - q_{0}\\right) \\left(1 - q_{1}\\right) \\left(1 - q_{2}\\right) \\left(1 - q_{3}\\right)}\\\\0 & 0 & 0 & 0 & 0 & 0 & 0 & 0 & 0 & 0 & 0 & 0 & 0 & 0 & \\frac{1}{\\left(1 - q_{0}\\right) \\left(1 - q_{1}\\right) \\left(1 - q_{2}\\right)} & - \\frac{q_{3}}{\\left(1 - q_{0}\\right) \\left(1 - q_{1}\\right) \\left(1 - q_{2}\\right) \\left(1 - q_{3}\\right)}\\\\0 & 0 & 0 & 0 & 0 & 0 & 0 & 0 & 0 & 0 & 0 & 0 & 0 & 0 & 0 & \\frac{1}{\\left(1 - q_{0}\\right) \\left(1 - q_{1}\\right) \\left(1 - q_{2}\\right) \\left(1 - q_{3}\\right)}\\end{array}\\right]$"
      ],
      "text/plain": [
       "Matrix([\n",
       "[1, -q3/(1 - q3), -q2/(1 - q2), -q1/(1 - q1), -q0/(1 - q0), q2*q3/((1 - q2)*(1 - q3)), q1*q3/((1 - q1)*(1 - q3)), q1*q2/((1 - q1)*(1 - q2)), q0*q3/((1 - q0)*(1 - q3)), q0*q2/((1 - q0)*(1 - q2)), q0*q1/((1 - q0)*(1 - q1)), -q1*q2*q3/((1 - q1)*(1 - q2)*(1 - q3)), -q0*q2*q3/((1 - q0)*(1 - q2)*(1 - q3)), -q0*q1*q3/((1 - q0)*(1 - q1)*(1 - q3)), -q0*q1*q2/((1 - q0)*(1 - q1)*(1 - q2)), q0*q1*q2*q3/((1 - q0)*(1 - q1)*(1 - q2)*(1 - q3))],\n",
       "[0,   1/(1 - q3),            0,            0,            0,   -q2/((1 - q2)*(1 - q3)),   -q1/((1 - q1)*(1 - q3)),                         0,   -q0/((1 - q0)*(1 - q3)),                         0,                         0,     q1*q2/((1 - q1)*(1 - q2)*(1 - q3)),     q0*q2/((1 - q0)*(1 - q2)*(1 - q3)),     q0*q1/((1 - q0)*(1 - q1)*(1 - q3)),                                      0,   -q0*q1*q2/((1 - q0)*(1 - q1)*(1 - q2)*(1 - q3))],\n",
       "[0,            0,   1/(1 - q2),            0,            0,   -q3/((1 - q2)*(1 - q3)),                         0,   -q1/((1 - q1)*(1 - q2)),                         0,   -q0/((1 - q0)*(1 - q2)),                         0,     q1*q3/((1 - q1)*(1 - q2)*(1 - q3)),     q0*q3/((1 - q0)*(1 - q2)*(1 - q3)),                                      0,     q0*q1/((1 - q0)*(1 - q1)*(1 - q2)),   -q0*q1*q3/((1 - q0)*(1 - q1)*(1 - q2)*(1 - q3))],\n",
       "[0,            0,            0,   1/(1 - q1),            0,                         0,   -q3/((1 - q1)*(1 - q3)),   -q2/((1 - q1)*(1 - q2)),                         0,                         0,   -q0/((1 - q0)*(1 - q1)),     q2*q3/((1 - q1)*(1 - q2)*(1 - q3)),                                      0,     q0*q3/((1 - q0)*(1 - q1)*(1 - q3)),     q0*q2/((1 - q0)*(1 - q1)*(1 - q2)),   -q0*q2*q3/((1 - q0)*(1 - q1)*(1 - q2)*(1 - q3))],\n",
       "[0,            0,            0,            0,   1/(1 - q0),                         0,                         0,                         0,   -q3/((1 - q0)*(1 - q3)),   -q2/((1 - q0)*(1 - q2)),   -q1/((1 - q0)*(1 - q1)),                                      0,     q2*q3/((1 - q0)*(1 - q2)*(1 - q3)),     q1*q3/((1 - q0)*(1 - q1)*(1 - q3)),     q1*q2/((1 - q0)*(1 - q1)*(1 - q2)),   -q1*q2*q3/((1 - q0)*(1 - q1)*(1 - q2)*(1 - q3))],\n",
       "[0,            0,            0,            0,            0,     1/((1 - q2)*(1 - q3)),                         0,                         0,                         0,                         0,                         0,       -q1/((1 - q1)*(1 - q2)*(1 - q3)),       -q0/((1 - q0)*(1 - q2)*(1 - q3)),                                      0,                                      0,       q0*q1/((1 - q0)*(1 - q1)*(1 - q2)*(1 - q3))],\n",
       "[0,            0,            0,            0,            0,                         0,     1/((1 - q1)*(1 - q3)),                         0,                         0,                         0,                         0,       -q2/((1 - q1)*(1 - q2)*(1 - q3)),                                      0,       -q0/((1 - q0)*(1 - q1)*(1 - q3)),                                      0,       q0*q2/((1 - q0)*(1 - q1)*(1 - q2)*(1 - q3))],\n",
       "[0,            0,            0,            0,            0,                         0,                         0,     1/((1 - q1)*(1 - q2)),                         0,                         0,                         0,       -q3/((1 - q1)*(1 - q2)*(1 - q3)),                                      0,                                      0,       -q0/((1 - q0)*(1 - q1)*(1 - q2)),       q0*q3/((1 - q0)*(1 - q1)*(1 - q2)*(1 - q3))],\n",
       "[0,            0,            0,            0,            0,                         0,                         0,                         0,     1/((1 - q0)*(1 - q3)),                         0,                         0,                                      0,       -q2/((1 - q0)*(1 - q2)*(1 - q3)),       -q1/((1 - q0)*(1 - q1)*(1 - q3)),                                      0,       q1*q2/((1 - q0)*(1 - q1)*(1 - q2)*(1 - q3))],\n",
       "[0,            0,            0,            0,            0,                         0,                         0,                         0,                         0,     1/((1 - q0)*(1 - q2)),                         0,                                      0,       -q3/((1 - q0)*(1 - q2)*(1 - q3)),                                      0,       -q1/((1 - q0)*(1 - q1)*(1 - q2)),       q1*q3/((1 - q0)*(1 - q1)*(1 - q2)*(1 - q3))],\n",
       "[0,            0,            0,            0,            0,                         0,                         0,                         0,                         0,                         0,     1/((1 - q0)*(1 - q1)),                                      0,                                      0,       -q3/((1 - q0)*(1 - q1)*(1 - q3)),       -q2/((1 - q0)*(1 - q1)*(1 - q2)),       q2*q3/((1 - q0)*(1 - q1)*(1 - q2)*(1 - q3))],\n",
       "[0,            0,            0,            0,            0,                         0,                         0,                         0,                         0,                         0,                         0,         1/((1 - q1)*(1 - q2)*(1 - q3)),                                      0,                                      0,                                      0,         -q0/((1 - q0)*(1 - q1)*(1 - q2)*(1 - q3))],\n",
       "[0,            0,            0,            0,            0,                         0,                         0,                         0,                         0,                         0,                         0,                                      0,         1/((1 - q0)*(1 - q2)*(1 - q3)),                                      0,                                      0,         -q1/((1 - q0)*(1 - q1)*(1 - q2)*(1 - q3))],\n",
       "[0,            0,            0,            0,            0,                         0,                         0,                         0,                         0,                         0,                         0,                                      0,                                      0,         1/((1 - q0)*(1 - q1)*(1 - q3)),                                      0,         -q2/((1 - q0)*(1 - q1)*(1 - q2)*(1 - q3))],\n",
       "[0,            0,            0,            0,            0,                         0,                         0,                         0,                         0,                         0,                         0,                                      0,                                      0,                                      0,         1/((1 - q0)*(1 - q1)*(1 - q2)),         -q3/((1 - q0)*(1 - q1)*(1 - q2)*(1 - q3))],\n",
       "[0,            0,            0,            0,            0,                         0,                         0,                         0,                         0,                         0,                         0,                                      0,                                      0,                                      0,                                      0,           1/((1 - q0)*(1 - q1)*(1 - q2)*(1 - q3))]])"
      ]
     },
     "execution_count": 32,
     "metadata": {},
     "output_type": "execute_result"
    }
   ],
   "source": [
    "R.inv()"
   ]
  },
  {
   "cell_type": "code",
   "execution_count": 5,
   "metadata": {},
   "outputs": [
    {
     "data": {
      "text/latex": [
       "$\\displaystyle \\left[\\begin{matrix}1 & q & q & q^{2} & q & q^{2} & q^{2} & q^{3}\\\\0 & 1 - q & 0 & q \\left(1 - q\\right) & 0 & q \\left(1 - q\\right) & 0 & q^{2} \\left(1 - q\\right)\\\\0 & 0 & 1 - q & q \\left(1 - q\\right) & 0 & 0 & q \\left(1 - q\\right) & q^{2} \\left(1 - q\\right)\\\\0 & 0 & 0 & \\left(1 - q\\right)^{2} & 0 & 0 & 0 & q \\left(1 - q\\right)^{2}\\\\0 & 0 & 0 & 0 & 1 - q & q \\left(1 - q\\right) & q \\left(1 - q\\right) & q^{2} \\left(1 - q\\right)\\\\0 & 0 & 0 & 0 & 0 & \\left(1 - q\\right)^{2} & 0 & q \\left(1 - q\\right)^{2}\\\\0 & 0 & 0 & 0 & 0 & 0 & \\left(1 - q\\right)^{2} & q \\left(1 - q\\right)^{2}\\\\0 & 0 & 0 & 0 & 0 & 0 & 0 & \\left(1 - q\\right)^{3}\\end{matrix}\\right]$"
      ],
      "text/plain": [
       "Matrix([\n",
       "[1,     q,     q,       q**2,     q,       q**2,       q**2,         q**3],\n",
       "[0, 1 - q,     0,  q*(1 - q),     0,  q*(1 - q),          0, q**2*(1 - q)],\n",
       "[0,     0, 1 - q,  q*(1 - q),     0,          0,  q*(1 - q), q**2*(1 - q)],\n",
       "[0,     0,     0, (1 - q)**2,     0,          0,          0, q*(1 - q)**2],\n",
       "[0,     0,     0,          0, 1 - q,  q*(1 - q),  q*(1 - q), q**2*(1 - q)],\n",
       "[0,     0,     0,          0,     0, (1 - q)**2,          0, q*(1 - q)**2],\n",
       "[0,     0,     0,          0,     0,          0, (1 - q)**2, q*(1 - q)**2],\n",
       "[0,     0,     0,          0,     0,          0,          0,   (1 - q)**3]])"
      ]
     },
     "execution_count": 5,
     "metadata": {},
     "output_type": "execute_result"
    }
   ],
   "source": [
    "n = 3\n",
    "idx_sort\n",
    "R0 = sympy.kronecker_product(*(mat,)*n)\n",
    "R0"
   ]
  },
  {
   "cell_type": "code",
   "execution_count": 6,
   "metadata": {
    "scrolled": false
   },
   "outputs": [
    {
     "data": {
      "text/latex": [
       "$\\displaystyle \\left[\\begin{matrix}1 & q & q & q & q^{2} & q^{2} & q^{2} & q^{3}\\\\0 & 1 - q & 0 & 0 & q \\left(1 - q\\right) & q \\left(1 - q\\right) & 0 & q^{2} \\left(1 - q\\right)\\\\0 & 0 & 1 - q & 0 & q \\left(1 - q\\right) & 0 & q \\left(1 - q\\right) & q^{2} \\left(1 - q\\right)\\\\0 & 0 & 0 & 1 - q & 0 & q \\left(1 - q\\right) & q \\left(1 - q\\right) & q^{2} \\left(1 - q\\right)\\\\0 & 0 & 0 & 0 & \\left(1 - q\\right)^{2} & 0 & 0 & q \\left(1 - q\\right)^{2}\\\\0 & 0 & 0 & 0 & 0 & \\left(1 - q\\right)^{2} & 0 & q \\left(1 - q\\right)^{2}\\\\0 & 0 & 0 & 0 & 0 & 0 & \\left(1 - q\\right)^{2} & q \\left(1 - q\\right)^{2}\\\\0 & 0 & 0 & 0 & 0 & 0 & 0 & \\left(1 - q\\right)^{3}\\end{matrix}\\right]$"
      ],
      "text/plain": [
       "Matrix([\n",
       "[1,     q,     q,     q,       q**2,       q**2,       q**2,         q**3],\n",
       "[0, 1 - q,     0,     0,  q*(1 - q),  q*(1 - q),          0, q**2*(1 - q)],\n",
       "[0,     0, 1 - q,     0,  q*(1 - q),          0,  q*(1 - q), q**2*(1 - q)],\n",
       "[0,     0,     0, 1 - q,          0,  q*(1 - q),  q*(1 - q), q**2*(1 - q)],\n",
       "[0,     0,     0,     0, (1 - q)**2,          0,          0, q*(1 - q)**2],\n",
       "[0,     0,     0,     0,          0, (1 - q)**2,          0, q*(1 - q)**2],\n",
       "[0,     0,     0,     0,          0,          0, (1 - q)**2, q*(1 - q)**2],\n",
       "[0,     0,     0,     0,          0,          0,          0,   (1 - q)**3]])"
      ]
     },
     "execution_count": 6,
     "metadata": {},
     "output_type": "execute_result"
    }
   ],
   "source": [
    "R = R0[idx_sort,:][:,idx_sort]\n",
    "R"
   ]
  },
  {
   "cell_type": "code",
   "execution_count": 7,
   "metadata": {},
   "outputs": [
    {
     "data": {
      "text/latex": [
       "$\\displaystyle \\left[\\begin{matrix}1 & - \\frac{q}{1 - q} & - \\frac{q}{1 - q} & - \\frac{q}{1 - q} & \\frac{q^{2}}{\\left(1 - q\\right)^{2}} & \\frac{q^{2}}{\\left(1 - q\\right)^{2}} & \\frac{q^{2}}{\\left(1 - q\\right)^{2}} & - \\frac{q^{3}}{\\left(1 - q\\right)^{3}}\\\\0 & \\frac{1}{1 - q} & 0 & 0 & - \\frac{q}{\\left(1 - q\\right)^{2}} & - \\frac{q}{\\left(1 - q\\right)^{2}} & 0 & \\frac{q^{2}}{\\left(1 - q\\right)^{3}}\\\\0 & 0 & \\frac{1}{1 - q} & 0 & - \\frac{q}{\\left(1 - q\\right)^{2}} & 0 & - \\frac{q}{\\left(1 - q\\right)^{2}} & \\frac{q^{2}}{\\left(1 - q\\right)^{3}}\\\\0 & 0 & 0 & \\frac{1}{1 - q} & 0 & - \\frac{q}{\\left(1 - q\\right)^{2}} & - \\frac{q}{\\left(1 - q\\right)^{2}} & \\frac{q^{2}}{\\left(1 - q\\right)^{3}}\\\\0 & 0 & 0 & 0 & \\frac{1}{\\left(1 - q\\right)^{2}} & 0 & 0 & - \\frac{q}{\\left(1 - q\\right)^{3}}\\\\0 & 0 & 0 & 0 & 0 & \\frac{1}{\\left(1 - q\\right)^{2}} & 0 & - \\frac{q}{\\left(1 - q\\right)^{3}}\\\\0 & 0 & 0 & 0 & 0 & 0 & \\frac{1}{\\left(1 - q\\right)^{2}} & - \\frac{q}{\\left(1 - q\\right)^{3}}\\\\0 & 0 & 0 & 0 & 0 & 0 & 0 & \\frac{1}{\\left(1 - q\\right)^{3}}\\end{matrix}\\right]$"
      ],
      "text/plain": [
       "Matrix([\n",
       "[1, -q/(1 - q), -q/(1 - q), -q/(1 - q), q**2/(1 - q)**2, q**2/(1 - q)**2, q**2/(1 - q)**2, -q**3/(1 - q)**3],\n",
       "[0,  1/(1 - q),          0,          0,   -q/(1 - q)**2,   -q/(1 - q)**2,               0,  q**2/(1 - q)**3],\n",
       "[0,          0,  1/(1 - q),          0,   -q/(1 - q)**2,               0,   -q/(1 - q)**2,  q**2/(1 - q)**3],\n",
       "[0,          0,          0,  1/(1 - q),               0,   -q/(1 - q)**2,   -q/(1 - q)**2,  q**2/(1 - q)**3],\n",
       "[0,          0,          0,          0,   (1 - q)**(-2),               0,               0,    -q/(1 - q)**3],\n",
       "[0,          0,          0,          0,               0,   (1 - q)**(-2),               0,    -q/(1 - q)**3],\n",
       "[0,          0,          0,          0,               0,               0,   (1 - q)**(-2),    -q/(1 - q)**3],\n",
       "[0,          0,          0,          0,               0,               0,               0,    (1 - q)**(-3)]])"
      ]
     },
     "execution_count": 7,
     "metadata": {},
     "output_type": "execute_result"
    }
   ],
   "source": [
    "R.inv()"
   ]
  },
  {
   "cell_type": "code",
   "execution_count": 8,
   "metadata": {},
   "outputs": [],
   "source": [
    "D = sympy.diag(*np.diag(R))\n",
    "Ru = R - D"
   ]
  },
  {
   "cell_type": "code",
   "execution_count": 24,
   "metadata": {},
   "outputs": [
    {
     "data": {
      "text/latex": [
       "$\\displaystyle \\left[\\begin{matrix}1 & \\frac{q}{1 - q} & \\frac{q}{1 - q} & \\frac{q}{1 - q} & \\frac{q^{2}}{\\left(1 - q\\right)^{2}} & \\frac{q^{2}}{\\left(1 - q\\right)^{2}} & \\frac{q^{2}}{\\left(1 - q\\right)^{2}} & \\frac{q^{3}}{\\left(1 - q\\right)^{3}}\\\\0 & \\frac{1}{1 - q} & 0 & 0 & \\frac{q}{\\left(1 - q\\right)^{2}} & \\frac{q}{\\left(1 - q\\right)^{2}} & 0 & \\frac{q^{2}}{\\left(1 - q\\right)^{3}}\\\\0 & 0 & \\frac{1}{1 - q} & 0 & \\frac{q}{\\left(1 - q\\right)^{2}} & 0 & \\frac{q}{\\left(1 - q\\right)^{2}} & \\frac{q^{2}}{\\left(1 - q\\right)^{3}}\\\\0 & 0 & 0 & \\frac{1}{1 - q} & 0 & \\frac{q}{\\left(1 - q\\right)^{2}} & \\frac{q}{\\left(1 - q\\right)^{2}} & \\frac{q^{2}}{\\left(1 - q\\right)^{3}}\\\\0 & 0 & 0 & 0 & \\frac{1}{\\left(1 - q\\right)^{2}} & 0 & 0 & \\frac{q}{\\left(1 - q\\right)^{3}}\\\\0 & 0 & 0 & 0 & 0 & \\frac{1}{\\left(1 - q\\right)^{2}} & 0 & \\frac{q}{\\left(1 - q\\right)^{3}}\\\\0 & 0 & 0 & 0 & 0 & 0 & \\frac{1}{\\left(1 - q\\right)^{2}} & \\frac{q}{\\left(1 - q\\right)^{3}}\\\\0 & 0 & 0 & 0 & 0 & 0 & 0 & \\frac{1}{\\left(1 - q\\right)^{3}}\\end{matrix}\\right]$"
      ],
      "text/plain": [
       "Matrix([\n",
       "[1, q/(1 - q), q/(1 - q), q/(1 - q), q**2/(1 - q)**2, q**2/(1 - q)**2, q**2/(1 - q)**2, q**3/(1 - q)**3],\n",
       "[0, 1/(1 - q),         0,         0,    q/(1 - q)**2,    q/(1 - q)**2,               0, q**2/(1 - q)**3],\n",
       "[0,         0, 1/(1 - q),         0,    q/(1 - q)**2,               0,    q/(1 - q)**2, q**2/(1 - q)**3],\n",
       "[0,         0,         0, 1/(1 - q),               0,    q/(1 - q)**2,    q/(1 - q)**2, q**2/(1 - q)**3],\n",
       "[0,         0,         0,         0,   (1 - q)**(-2),               0,               0,    q/(1 - q)**3],\n",
       "[0,         0,         0,         0,               0,   (1 - q)**(-2),               0,    q/(1 - q)**3],\n",
       "[0,         0,         0,         0,               0,               0,   (1 - q)**(-2),    q/(1 - q)**3],\n",
       "[0,         0,         0,         0,               0,               0,               0,   (1 - q)**(-3)]])"
      ]
     },
     "execution_count": 24,
     "metadata": {},
     "output_type": "execute_result"
    }
   ],
   "source": [
    "(sympy.eye(1<<n) - (D.inv() *Ru ) + ( D.inv() * Ru) ** 2 - (D.inv() * Ru) ** 3).inv() * D.inv()"
   ]
  },
  {
   "cell_type": "code",
   "execution_count": 94,
   "metadata": {},
   "outputs": [
    {
     "data": {
      "text/latex": [
       "$\\displaystyle \\left[\\begin{matrix}0 & 0 & 0 & 0 & \\frac{2 q^{2}}{\\left(1 - q\\right)^{2}} & \\frac{2 q^{2}}{\\left(1 - q\\right)^{2}} & \\frac{2 q^{2}}{\\left(1 - q\\right)^{2}} & \\frac{6 q^{3}}{\\left(1 - q\\right)^{3}}\\\\0 & 0 & 0 & 0 & 0 & 0 & 0 & \\frac{2 q^{2}}{\\left(1 - q\\right)^{2}}\\\\0 & 0 & 0 & 0 & 0 & 0 & 0 & \\frac{2 q^{2}}{\\left(1 - q\\right)^{2}}\\\\0 & 0 & 0 & 0 & 0 & 0 & 0 & \\frac{2 q^{2}}{\\left(1 - q\\right)^{2}}\\\\0 & 0 & 0 & 0 & 0 & 0 & 0 & 0\\\\0 & 0 & 0 & 0 & 0 & 0 & 0 & 0\\\\0 & 0 & 0 & 0 & 0 & 0 & 0 & 0\\\\0 & 0 & 0 & 0 & 0 & 0 & 0 & 0\\end{matrix}\\right]$"
      ],
      "text/plain": [
       "Matrix([\n",
       "[0, 0, 0, 0, 2*q**2/(1 - q)**2, 2*q**2/(1 - q)**2, 2*q**2/(1 - q)**2, 6*q**3/(1 - q)**3],\n",
       "[0, 0, 0, 0,                 0,                 0,                 0, 2*q**2/(1 - q)**2],\n",
       "[0, 0, 0, 0,                 0,                 0,                 0, 2*q**2/(1 - q)**2],\n",
       "[0, 0, 0, 0,                 0,                 0,                 0, 2*q**2/(1 - q)**2],\n",
       "[0, 0, 0, 0,                 0,                 0,                 0,                 0],\n",
       "[0, 0, 0, 0,                 0,                 0,                 0,                 0],\n",
       "[0, 0, 0, 0,                 0,                 0,                 0,                 0],\n",
       "[0, 0, 0, 0,                 0,                 0,                 0,                 0]])"
      ]
     },
     "execution_count": 94,
     "metadata": {},
     "output_type": "execute_result"
    }
   ],
   "source": [
    "(Ru * D.inv()) ** 2"
   ]
  },
  {
   "cell_type": "code",
   "execution_count": 95,
   "metadata": {},
   "outputs": [
    {
     "data": {
      "text/latex": [
       "$\\displaystyle \\left[\\begin{matrix}0 & 0 & 0 & 0 & 0 & 0 & 0 & \\frac{6 q^{3}}{\\left(1 - q\\right)^{3}}\\\\0 & 0 & 0 & 0 & 0 & 0 & 0 & 0\\\\0 & 0 & 0 & 0 & 0 & 0 & 0 & 0\\\\0 & 0 & 0 & 0 & 0 & 0 & 0 & 0\\\\0 & 0 & 0 & 0 & 0 & 0 & 0 & 0\\\\0 & 0 & 0 & 0 & 0 & 0 & 0 & 0\\\\0 & 0 & 0 & 0 & 0 & 0 & 0 & 0\\\\0 & 0 & 0 & 0 & 0 & 0 & 0 & 0\\end{matrix}\\right]$"
      ],
      "text/plain": [
       "Matrix([\n",
       "[0, 0, 0, 0, 0, 0, 0, 6*q**3/(1 - q)**3],\n",
       "[0, 0, 0, 0, 0, 0, 0,                 0],\n",
       "[0, 0, 0, 0, 0, 0, 0,                 0],\n",
       "[0, 0, 0, 0, 0, 0, 0,                 0],\n",
       "[0, 0, 0, 0, 0, 0, 0,                 0],\n",
       "[0, 0, 0, 0, 0, 0, 0,                 0],\n",
       "[0, 0, 0, 0, 0, 0, 0,                 0],\n",
       "[0, 0, 0, 0, 0, 0, 0,                 0]])"
      ]
     },
     "execution_count": 95,
     "metadata": {},
     "output_type": "execute_result"
    }
   ],
   "source": [
    "(Ru * D.inv()) ** 3"
   ]
  },
  {
   "cell_type": "code",
   "execution_count": 102,
   "metadata": {},
   "outputs": [],
   "source": [
    "T1 = R.copy()[:7,:7]\n",
    "D1 = sympy.diag(*np.diag(T1))\n",
    "Tu = T1 - D1"
   ]
  },
  {
   "cell_type": "code",
   "execution_count": 103,
   "metadata": {},
   "outputs": [
    {
     "data": {
      "text/latex": [
       "$\\displaystyle \\left[\\begin{matrix}0 & \\frac{q}{1 - q} & \\frac{q}{1 - q} & \\frac{q}{1 - q} & \\frac{q^{2}}{\\left(1 - q\\right)^{2}} & \\frac{q^{2}}{\\left(1 - q\\right)^{2}} & \\frac{q^{2}}{\\left(1 - q\\right)^{2}}\\\\0 & 0 & 0 & 0 & \\frac{q}{1 - q} & \\frac{q}{1 - q} & 0\\\\0 & 0 & 0 & 0 & \\frac{q}{1 - q} & 0 & \\frac{q}{1 - q}\\\\0 & 0 & 0 & 0 & 0 & \\frac{q}{1 - q} & \\frac{q}{1 - q}\\\\0 & 0 & 0 & 0 & 0 & 0 & 0\\\\0 & 0 & 0 & 0 & 0 & 0 & 0\\\\0 & 0 & 0 & 0 & 0 & 0 & 0\\end{matrix}\\right]$"
      ],
      "text/plain": [
       "Matrix([\n",
       "[0, q/(1 - q), q/(1 - q), q/(1 - q), q**2/(1 - q)**2, q**2/(1 - q)**2, q**2/(1 - q)**2],\n",
       "[0,         0,         0,         0,       q/(1 - q),       q/(1 - q),               0],\n",
       "[0,         0,         0,         0,       q/(1 - q),               0,       q/(1 - q)],\n",
       "[0,         0,         0,         0,               0,       q/(1 - q),       q/(1 - q)],\n",
       "[0,         0,         0,         0,               0,               0,               0],\n",
       "[0,         0,         0,         0,               0,               0,               0],\n",
       "[0,         0,         0,         0,               0,               0,               0]])"
      ]
     },
     "metadata": {},
     "output_type": "display_data"
    },
    {
     "data": {
      "text/latex": [
       "$\\displaystyle \\left[\\begin{matrix}0 & 0 & 0 & 0 & \\frac{2 q^{2}}{\\left(1 - q\\right)^{2}} & \\frac{2 q^{2}}{\\left(1 - q\\right)^{2}} & \\frac{2 q^{2}}{\\left(1 - q\\right)^{2}}\\\\0 & 0 & 0 & 0 & 0 & 0 & 0\\\\0 & 0 & 0 & 0 & 0 & 0 & 0\\\\0 & 0 & 0 & 0 & 0 & 0 & 0\\\\0 & 0 & 0 & 0 & 0 & 0 & 0\\\\0 & 0 & 0 & 0 & 0 & 0 & 0\\\\0 & 0 & 0 & 0 & 0 & 0 & 0\\end{matrix}\\right]$"
      ],
      "text/plain": [
       "Matrix([\n",
       "[0, 0, 0, 0, 2*q**2/(1 - q)**2, 2*q**2/(1 - q)**2, 2*q**2/(1 - q)**2],\n",
       "[0, 0, 0, 0,                 0,                 0,                 0],\n",
       "[0, 0, 0, 0,                 0,                 0,                 0],\n",
       "[0, 0, 0, 0,                 0,                 0,                 0],\n",
       "[0, 0, 0, 0,                 0,                 0,                 0],\n",
       "[0, 0, 0, 0,                 0,                 0,                 0],\n",
       "[0, 0, 0, 0,                 0,                 0,                 0]])"
      ]
     },
     "metadata": {},
     "output_type": "display_data"
    }
   ],
   "source": [
    "for k in range(1, 3):\n",
    "    display((Tu * D1.inv()) ** k)"
   ]
  },
  {
   "cell_type": "code",
   "execution_count": 50,
   "metadata": {},
   "outputs": [
    {
     "data": {
      "text/latex": [
       "$\\displaystyle \\left[\\begin{matrix}1 & - \\frac{q}{1 - q} & - \\frac{q}{1 - q} & - \\frac{q}{1 - q} & - \\frac{q}{1 - q}\\\\0 & \\frac{1}{1 - q} & 0 & 0 & 0\\\\0 & 0 & \\frac{1}{1 - q} & 0 & 0\\\\0 & 0 & 0 & \\frac{1}{1 - q} & 0\\\\0 & 0 & 0 & 0 & \\frac{1}{1 - q}\\end{matrix}\\right]$"
      ],
      "text/plain": [
       "Matrix([\n",
       "[1, -q/(1 - q), -q/(1 - q), -q/(1 - q), -q/(1 - q)],\n",
       "[0,  1/(1 - q),          0,          0,          0],\n",
       "[0,          0,  1/(1 - q),          0,          0],\n",
       "[0,          0,          0,  1/(1 - q),          0],\n",
       "[0,          0,          0,          0,  1/(1 - q)]])"
      ]
     },
     "execution_count": 50,
     "metadata": {},
     "output_type": "execute_result"
    }
   ],
   "source": [
    "T.inv()"
   ]
  },
  {
   "cell_type": "code",
   "execution_count": 52,
   "metadata": {},
   "outputs": [
    {
     "data": {
      "text/latex": [
       "$\\displaystyle \\left[\\begin{matrix}1 & - \\frac{q}{1 - q} & - \\frac{q}{1 - q} & - \\frac{q}{1 - q} & - \\frac{q}{1 - q}\\\\0 & \\frac{1}{1 - q} & 0 & 0 & 0\\\\0 & 0 & \\frac{1}{1 - q} & 0 & 0\\\\0 & 0 & 0 & \\frac{1}{1 - q} & 0\\\\0 & 0 & 0 & 0 & \\frac{1}{1 - q}\\end{matrix}\\right]$"
      ],
      "text/plain": [
       "Matrix([\n",
       "[1, -q/(1 - q), -q/(1 - q), -q/(1 - q), -q/(1 - q)],\n",
       "[0,  1/(1 - q),          0,          0,          0],\n",
       "[0,          0,  1/(1 - q),          0,          0],\n",
       "[0,          0,          0,  1/(1 - q),          0],\n",
       "[0,          0,          0,          0,  1/(1 - q)]])"
      ]
     },
     "execution_count": 52,
     "metadata": {},
     "output_type": "execute_result"
    }
   ],
   "source": [
    "R.inv()[:5,:5]"
   ]
  },
  {
   "cell_type": "code",
   "execution_count": null,
   "metadata": {},
   "outputs": [],
   "source": []
  }
 ],
 "metadata": {
  "kernelspec": {
   "display_name": "Python 3",
   "language": "python",
   "name": "python3"
  },
  "language_info": {
   "codemirror_mode": {
    "name": "ipython",
    "version": 3
   },
   "file_extension": ".py",
   "mimetype": "text/x-python",
   "name": "python",
   "nbconvert_exporter": "python",
   "pygments_lexer": "ipython3",
   "version": "3.6.9"
  }
 },
 "nbformat": 4,
 "nbformat_minor": 2
}
