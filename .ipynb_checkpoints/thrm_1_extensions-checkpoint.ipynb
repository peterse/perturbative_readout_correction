{
 "cells": [
  {
   "cell_type": "code",
   "execution_count": 2,
   "metadata": {},
   "outputs": [],
   "source": [
    "import sympy\n",
    "import numpy as np\n",
    "def binarr(m):\n",
    "    \"\"\"Produce an ordered column of all binary vectors length m.\n",
    "\n",
    "    Example for m=3:\n",
    "        array([[0, 0, 0],\n",
    "               [0, 0, 1],\n",
    "               [0, 1, 0],\n",
    "               [0, 1, 1],\n",
    "               [1, 0, 0],\n",
    "               [1, 0, 1],\n",
    "               [1, 1, 0],\n",
    "               [1, 1, 1]])\n",
    "    \"\"\"\n",
    "    d = np.arange(2 ** m)\n",
    "    return (((d[:,None] & (1 << np.arange(m)))) > 0).astype(int)[:,::-1]\n",
    "\n",
    "def idxsort_by_weight(m):\n",
    "    \"\"\"Sort [0, ..., 2**m] by bitstring weight.\n",
    "\n",
    "    Returns the argsort that rearranges such an array according to the\n",
    "    weight of each value's binary representation.\n",
    "    \"\"\"\n",
    "    x = binarr(m)\n",
    "    weights = np.sum(x, axis=1)\n",
    "    return list(np.argsort(weights).astype(int))\n"
   ]
  },
  {
   "cell_type": "code",
   "execution_count": null,
   "metadata": {},
   "outputs": [],
   "source": [
    "def make_Qmat(q):\n",
    "    \"\"\"Produce upper-triangular relaxation-only single-qubit response.\"\"\"\n",
    "    return sympy.Matrix([\n",
    "                [1, q],\n",
    "                [0, 1-q],\n",
    "            ])"
   ]
  },
  {
   "cell_type": "code",
   "execution_count": 16,
   "metadata": {},
   "outputs": [],
   "source": [
    "n = 3 # number of bits\n",
    "sym_str = \",\".join([f\"q{i}\" for i in range(n)])\n",
    "qvals = sympy.symbols(sym_str)\n",
    "Qmats = []"
   ]
  },
  {
   "cell_type": "code",
   "execution_count": 17,
   "metadata": {},
   "outputs": [
    {
     "data": {
      "text/plain": [
       "(q0, q1, q2)"
      ]
     },
     "execution_count": 17,
     "metadata": {},
     "output_type": "execute_result"
    }
   ],
   "source": [
    "qvals"
   ]
  },
  {
   "cell_type": "code",
   "execution_count": 4,
   "metadata": {},
   "outputs": [
    {
     "data": {
      "text/latex": [
       "$\\displaystyle \\left[\\begin{matrix}1 & - \\frac{q}{1 - q}\\\\0 & \\frac{1}{1 - q}\\end{matrix}\\right]$"
      ],
      "text/plain": [
       "Matrix([\n",
       "[1, -q/(1 - q)],\n",
       "[0,  1/(1 - q)]])"
      ]
     },
     "execution_count": 4,
     "metadata": {},
     "output_type": "execute_result"
    }
   ],
   "source": [
    "mat.inv()"
   ]
  },
  {
   "cell_type": "code",
   "execution_count": 5,
   "metadata": {},
   "outputs": [
    {
     "data": {
      "text/latex": [
       "$\\displaystyle \\left[\\begin{matrix}1 & q & q & q^{2} & q & q^{2} & q^{2} & q^{3}\\\\0 & 1 - q & 0 & q \\left(1 - q\\right) & 0 & q \\left(1 - q\\right) & 0 & q^{2} \\left(1 - q\\right)\\\\0 & 0 & 1 - q & q \\left(1 - q\\right) & 0 & 0 & q \\left(1 - q\\right) & q^{2} \\left(1 - q\\right)\\\\0 & 0 & 0 & \\left(1 - q\\right)^{2} & 0 & 0 & 0 & q \\left(1 - q\\right)^{2}\\\\0 & 0 & 0 & 0 & 1 - q & q \\left(1 - q\\right) & q \\left(1 - q\\right) & q^{2} \\left(1 - q\\right)\\\\0 & 0 & 0 & 0 & 0 & \\left(1 - q\\right)^{2} & 0 & q \\left(1 - q\\right)^{2}\\\\0 & 0 & 0 & 0 & 0 & 0 & \\left(1 - q\\right)^{2} & q \\left(1 - q\\right)^{2}\\\\0 & 0 & 0 & 0 & 0 & 0 & 0 & \\left(1 - q\\right)^{3}\\end{matrix}\\right]$"
      ],
      "text/plain": [
       "Matrix([\n",
       "[1,     q,     q,       q**2,     q,       q**2,       q**2,         q**3],\n",
       "[0, 1 - q,     0,  q*(1 - q),     0,  q*(1 - q),          0, q**2*(1 - q)],\n",
       "[0,     0, 1 - q,  q*(1 - q),     0,          0,  q*(1 - q), q**2*(1 - q)],\n",
       "[0,     0,     0, (1 - q)**2,     0,          0,          0, q*(1 - q)**2],\n",
       "[0,     0,     0,          0, 1 - q,  q*(1 - q),  q*(1 - q), q**2*(1 - q)],\n",
       "[0,     0,     0,          0,     0, (1 - q)**2,          0, q*(1 - q)**2],\n",
       "[0,     0,     0,          0,     0,          0, (1 - q)**2, q*(1 - q)**2],\n",
       "[0,     0,     0,          0,     0,          0,          0,   (1 - q)**3]])"
      ]
     },
     "execution_count": 5,
     "metadata": {},
     "output_type": "execute_result"
    }
   ],
   "source": [
    "n = 3\n",
    "idx_sort = idxsort_by_weight(n)\n",
    "idx_sort\n",
    "R0 = sympy.kronecker_product(*(mat,)*n)\n",
    "R0"
   ]
  },
  {
   "cell_type": "code",
   "execution_count": 6,
   "metadata": {
    "scrolled": false
   },
   "outputs": [
    {
     "data": {
      "text/latex": [
       "$\\displaystyle \\left[\\begin{matrix}1 & q & q & q & q^{2} & q^{2} & q^{2} & q^{3}\\\\0 & 1 - q & 0 & 0 & q \\left(1 - q\\right) & q \\left(1 - q\\right) & 0 & q^{2} \\left(1 - q\\right)\\\\0 & 0 & 1 - q & 0 & q \\left(1 - q\\right) & 0 & q \\left(1 - q\\right) & q^{2} \\left(1 - q\\right)\\\\0 & 0 & 0 & 1 - q & 0 & q \\left(1 - q\\right) & q \\left(1 - q\\right) & q^{2} \\left(1 - q\\right)\\\\0 & 0 & 0 & 0 & \\left(1 - q\\right)^{2} & 0 & 0 & q \\left(1 - q\\right)^{2}\\\\0 & 0 & 0 & 0 & 0 & \\left(1 - q\\right)^{2} & 0 & q \\left(1 - q\\right)^{2}\\\\0 & 0 & 0 & 0 & 0 & 0 & \\left(1 - q\\right)^{2} & q \\left(1 - q\\right)^{2}\\\\0 & 0 & 0 & 0 & 0 & 0 & 0 & \\left(1 - q\\right)^{3}\\end{matrix}\\right]$"
      ],
      "text/plain": [
       "Matrix([\n",
       "[1,     q,     q,     q,       q**2,       q**2,       q**2,         q**3],\n",
       "[0, 1 - q,     0,     0,  q*(1 - q),  q*(1 - q),          0, q**2*(1 - q)],\n",
       "[0,     0, 1 - q,     0,  q*(1 - q),          0,  q*(1 - q), q**2*(1 - q)],\n",
       "[0,     0,     0, 1 - q,          0,  q*(1 - q),  q*(1 - q), q**2*(1 - q)],\n",
       "[0,     0,     0,     0, (1 - q)**2,          0,          0, q*(1 - q)**2],\n",
       "[0,     0,     0,     0,          0, (1 - q)**2,          0, q*(1 - q)**2],\n",
       "[0,     0,     0,     0,          0,          0, (1 - q)**2, q*(1 - q)**2],\n",
       "[0,     0,     0,     0,          0,          0,          0,   (1 - q)**3]])"
      ]
     },
     "execution_count": 6,
     "metadata": {},
     "output_type": "execute_result"
    }
   ],
   "source": [
    "R = R0[idx_sort,:][:,idx_sort]\n",
    "R"
   ]
  },
  {
   "cell_type": "code",
   "execution_count": 7,
   "metadata": {},
   "outputs": [
    {
     "data": {
      "text/latex": [
       "$\\displaystyle \\left[\\begin{matrix}1 & - \\frac{q}{1 - q} & - \\frac{q}{1 - q} & - \\frac{q}{1 - q} & \\frac{q^{2}}{\\left(1 - q\\right)^{2}} & \\frac{q^{2}}{\\left(1 - q\\right)^{2}} & \\frac{q^{2}}{\\left(1 - q\\right)^{2}} & - \\frac{q^{3}}{\\left(1 - q\\right)^{3}}\\\\0 & \\frac{1}{1 - q} & 0 & 0 & - \\frac{q}{\\left(1 - q\\right)^{2}} & - \\frac{q}{\\left(1 - q\\right)^{2}} & 0 & \\frac{q^{2}}{\\left(1 - q\\right)^{3}}\\\\0 & 0 & \\frac{1}{1 - q} & 0 & - \\frac{q}{\\left(1 - q\\right)^{2}} & 0 & - \\frac{q}{\\left(1 - q\\right)^{2}} & \\frac{q^{2}}{\\left(1 - q\\right)^{3}}\\\\0 & 0 & 0 & \\frac{1}{1 - q} & 0 & - \\frac{q}{\\left(1 - q\\right)^{2}} & - \\frac{q}{\\left(1 - q\\right)^{2}} & \\frac{q^{2}}{\\left(1 - q\\right)^{3}}\\\\0 & 0 & 0 & 0 & \\frac{1}{\\left(1 - q\\right)^{2}} & 0 & 0 & - \\frac{q}{\\left(1 - q\\right)^{3}}\\\\0 & 0 & 0 & 0 & 0 & \\frac{1}{\\left(1 - q\\right)^{2}} & 0 & - \\frac{q}{\\left(1 - q\\right)^{3}}\\\\0 & 0 & 0 & 0 & 0 & 0 & \\frac{1}{\\left(1 - q\\right)^{2}} & - \\frac{q}{\\left(1 - q\\right)^{3}}\\\\0 & 0 & 0 & 0 & 0 & 0 & 0 & \\frac{1}{\\left(1 - q\\right)^{3}}\\end{matrix}\\right]$"
      ],
      "text/plain": [
       "Matrix([\n",
       "[1, -q/(1 - q), -q/(1 - q), -q/(1 - q), q**2/(1 - q)**2, q**2/(1 - q)**2, q**2/(1 - q)**2, -q**3/(1 - q)**3],\n",
       "[0,  1/(1 - q),          0,          0,   -q/(1 - q)**2,   -q/(1 - q)**2,               0,  q**2/(1 - q)**3],\n",
       "[0,          0,  1/(1 - q),          0,   -q/(1 - q)**2,               0,   -q/(1 - q)**2,  q**2/(1 - q)**3],\n",
       "[0,          0,          0,  1/(1 - q),               0,   -q/(1 - q)**2,   -q/(1 - q)**2,  q**2/(1 - q)**3],\n",
       "[0,          0,          0,          0,   (1 - q)**(-2),               0,               0,    -q/(1 - q)**3],\n",
       "[0,          0,          0,          0,               0,   (1 - q)**(-2),               0,    -q/(1 - q)**3],\n",
       "[0,          0,          0,          0,               0,               0,   (1 - q)**(-2),    -q/(1 - q)**3],\n",
       "[0,          0,          0,          0,               0,               0,               0,    (1 - q)**(-3)]])"
      ]
     },
     "execution_count": 7,
     "metadata": {},
     "output_type": "execute_result"
    }
   ],
   "source": [
    "R.inv()"
   ]
  },
  {
   "cell_type": "code",
   "execution_count": 8,
   "metadata": {},
   "outputs": [],
   "source": [
    "D = sympy.diag(*np.diag(R))\n",
    "Ru = R - D"
   ]
  },
  {
   "cell_type": "code",
   "execution_count": 24,
   "metadata": {},
   "outputs": [
    {
     "data": {
      "text/latex": [
       "$\\displaystyle \\left[\\begin{matrix}1 & \\frac{q}{1 - q} & \\frac{q}{1 - q} & \\frac{q}{1 - q} & \\frac{q^{2}}{\\left(1 - q\\right)^{2}} & \\frac{q^{2}}{\\left(1 - q\\right)^{2}} & \\frac{q^{2}}{\\left(1 - q\\right)^{2}} & \\frac{q^{3}}{\\left(1 - q\\right)^{3}}\\\\0 & \\frac{1}{1 - q} & 0 & 0 & \\frac{q}{\\left(1 - q\\right)^{2}} & \\frac{q}{\\left(1 - q\\right)^{2}} & 0 & \\frac{q^{2}}{\\left(1 - q\\right)^{3}}\\\\0 & 0 & \\frac{1}{1 - q} & 0 & \\frac{q}{\\left(1 - q\\right)^{2}} & 0 & \\frac{q}{\\left(1 - q\\right)^{2}} & \\frac{q^{2}}{\\left(1 - q\\right)^{3}}\\\\0 & 0 & 0 & \\frac{1}{1 - q} & 0 & \\frac{q}{\\left(1 - q\\right)^{2}} & \\frac{q}{\\left(1 - q\\right)^{2}} & \\frac{q^{2}}{\\left(1 - q\\right)^{3}}\\\\0 & 0 & 0 & 0 & \\frac{1}{\\left(1 - q\\right)^{2}} & 0 & 0 & \\frac{q}{\\left(1 - q\\right)^{3}}\\\\0 & 0 & 0 & 0 & 0 & \\frac{1}{\\left(1 - q\\right)^{2}} & 0 & \\frac{q}{\\left(1 - q\\right)^{3}}\\\\0 & 0 & 0 & 0 & 0 & 0 & \\frac{1}{\\left(1 - q\\right)^{2}} & \\frac{q}{\\left(1 - q\\right)^{3}}\\\\0 & 0 & 0 & 0 & 0 & 0 & 0 & \\frac{1}{\\left(1 - q\\right)^{3}}\\end{matrix}\\right]$"
      ],
      "text/plain": [
       "Matrix([\n",
       "[1, q/(1 - q), q/(1 - q), q/(1 - q), q**2/(1 - q)**2, q**2/(1 - q)**2, q**2/(1 - q)**2, q**3/(1 - q)**3],\n",
       "[0, 1/(1 - q),         0,         0,    q/(1 - q)**2,    q/(1 - q)**2,               0, q**2/(1 - q)**3],\n",
       "[0,         0, 1/(1 - q),         0,    q/(1 - q)**2,               0,    q/(1 - q)**2, q**2/(1 - q)**3],\n",
       "[0,         0,         0, 1/(1 - q),               0,    q/(1 - q)**2,    q/(1 - q)**2, q**2/(1 - q)**3],\n",
       "[0,         0,         0,         0,   (1 - q)**(-2),               0,               0,    q/(1 - q)**3],\n",
       "[0,         0,         0,         0,               0,   (1 - q)**(-2),               0,    q/(1 - q)**3],\n",
       "[0,         0,         0,         0,               0,               0,   (1 - q)**(-2),    q/(1 - q)**3],\n",
       "[0,         0,         0,         0,               0,               0,               0,   (1 - q)**(-3)]])"
      ]
     },
     "execution_count": 24,
     "metadata": {},
     "output_type": "execute_result"
    }
   ],
   "source": [
    "(sympy.eye(1<<n) - (D.inv() *Ru ) + ( D.inv() * Ru) ** 2 - (D.inv() * Ru) ** 3).inv() * D.inv()"
   ]
  },
  {
   "cell_type": "code",
   "execution_count": 94,
   "metadata": {},
   "outputs": [
    {
     "data": {
      "text/latex": [
       "$\\displaystyle \\left[\\begin{matrix}0 & 0 & 0 & 0 & \\frac{2 q^{2}}{\\left(1 - q\\right)^{2}} & \\frac{2 q^{2}}{\\left(1 - q\\right)^{2}} & \\frac{2 q^{2}}{\\left(1 - q\\right)^{2}} & \\frac{6 q^{3}}{\\left(1 - q\\right)^{3}}\\\\0 & 0 & 0 & 0 & 0 & 0 & 0 & \\frac{2 q^{2}}{\\left(1 - q\\right)^{2}}\\\\0 & 0 & 0 & 0 & 0 & 0 & 0 & \\frac{2 q^{2}}{\\left(1 - q\\right)^{2}}\\\\0 & 0 & 0 & 0 & 0 & 0 & 0 & \\frac{2 q^{2}}{\\left(1 - q\\right)^{2}}\\\\0 & 0 & 0 & 0 & 0 & 0 & 0 & 0\\\\0 & 0 & 0 & 0 & 0 & 0 & 0 & 0\\\\0 & 0 & 0 & 0 & 0 & 0 & 0 & 0\\\\0 & 0 & 0 & 0 & 0 & 0 & 0 & 0\\end{matrix}\\right]$"
      ],
      "text/plain": [
       "Matrix([\n",
       "[0, 0, 0, 0, 2*q**2/(1 - q)**2, 2*q**2/(1 - q)**2, 2*q**2/(1 - q)**2, 6*q**3/(1 - q)**3],\n",
       "[0, 0, 0, 0,                 0,                 0,                 0, 2*q**2/(1 - q)**2],\n",
       "[0, 0, 0, 0,                 0,                 0,                 0, 2*q**2/(1 - q)**2],\n",
       "[0, 0, 0, 0,                 0,                 0,                 0, 2*q**2/(1 - q)**2],\n",
       "[0, 0, 0, 0,                 0,                 0,                 0,                 0],\n",
       "[0, 0, 0, 0,                 0,                 0,                 0,                 0],\n",
       "[0, 0, 0, 0,                 0,                 0,                 0,                 0],\n",
       "[0, 0, 0, 0,                 0,                 0,                 0,                 0]])"
      ]
     },
     "execution_count": 94,
     "metadata": {},
     "output_type": "execute_result"
    }
   ],
   "source": [
    "(Ru * D.inv()) ** 2"
   ]
  },
  {
   "cell_type": "code",
   "execution_count": 95,
   "metadata": {},
   "outputs": [
    {
     "data": {
      "text/latex": [
       "$\\displaystyle \\left[\\begin{matrix}0 & 0 & 0 & 0 & 0 & 0 & 0 & \\frac{6 q^{3}}{\\left(1 - q\\right)^{3}}\\\\0 & 0 & 0 & 0 & 0 & 0 & 0 & 0\\\\0 & 0 & 0 & 0 & 0 & 0 & 0 & 0\\\\0 & 0 & 0 & 0 & 0 & 0 & 0 & 0\\\\0 & 0 & 0 & 0 & 0 & 0 & 0 & 0\\\\0 & 0 & 0 & 0 & 0 & 0 & 0 & 0\\\\0 & 0 & 0 & 0 & 0 & 0 & 0 & 0\\\\0 & 0 & 0 & 0 & 0 & 0 & 0 & 0\\end{matrix}\\right]$"
      ],
      "text/plain": [
       "Matrix([\n",
       "[0, 0, 0, 0, 0, 0, 0, 6*q**3/(1 - q)**3],\n",
       "[0, 0, 0, 0, 0, 0, 0,                 0],\n",
       "[0, 0, 0, 0, 0, 0, 0,                 0],\n",
       "[0, 0, 0, 0, 0, 0, 0,                 0],\n",
       "[0, 0, 0, 0, 0, 0, 0,                 0],\n",
       "[0, 0, 0, 0, 0, 0, 0,                 0],\n",
       "[0, 0, 0, 0, 0, 0, 0,                 0],\n",
       "[0, 0, 0, 0, 0, 0, 0,                 0]])"
      ]
     },
     "execution_count": 95,
     "metadata": {},
     "output_type": "execute_result"
    }
   ],
   "source": [
    "(Ru * D.inv()) ** 3"
   ]
  },
  {
   "cell_type": "code",
   "execution_count": 102,
   "metadata": {},
   "outputs": [],
   "source": [
    "T1 = R.copy()[:7,:7]\n",
    "D1 = sympy.diag(*np.diag(T1))\n",
    "Tu = T1 - D1"
   ]
  },
  {
   "cell_type": "code",
   "execution_count": 103,
   "metadata": {},
   "outputs": [
    {
     "data": {
      "text/latex": [
       "$\\displaystyle \\left[\\begin{matrix}0 & \\frac{q}{1 - q} & \\frac{q}{1 - q} & \\frac{q}{1 - q} & \\frac{q^{2}}{\\left(1 - q\\right)^{2}} & \\frac{q^{2}}{\\left(1 - q\\right)^{2}} & \\frac{q^{2}}{\\left(1 - q\\right)^{2}}\\\\0 & 0 & 0 & 0 & \\frac{q}{1 - q} & \\frac{q}{1 - q} & 0\\\\0 & 0 & 0 & 0 & \\frac{q}{1 - q} & 0 & \\frac{q}{1 - q}\\\\0 & 0 & 0 & 0 & 0 & \\frac{q}{1 - q} & \\frac{q}{1 - q}\\\\0 & 0 & 0 & 0 & 0 & 0 & 0\\\\0 & 0 & 0 & 0 & 0 & 0 & 0\\\\0 & 0 & 0 & 0 & 0 & 0 & 0\\end{matrix}\\right]$"
      ],
      "text/plain": [
       "Matrix([\n",
       "[0, q/(1 - q), q/(1 - q), q/(1 - q), q**2/(1 - q)**2, q**2/(1 - q)**2, q**2/(1 - q)**2],\n",
       "[0,         0,         0,         0,       q/(1 - q),       q/(1 - q),               0],\n",
       "[0,         0,         0,         0,       q/(1 - q),               0,       q/(1 - q)],\n",
       "[0,         0,         0,         0,               0,       q/(1 - q),       q/(1 - q)],\n",
       "[0,         0,         0,         0,               0,               0,               0],\n",
       "[0,         0,         0,         0,               0,               0,               0],\n",
       "[0,         0,         0,         0,               0,               0,               0]])"
      ]
     },
     "metadata": {},
     "output_type": "display_data"
    },
    {
     "data": {
      "text/latex": [
       "$\\displaystyle \\left[\\begin{matrix}0 & 0 & 0 & 0 & \\frac{2 q^{2}}{\\left(1 - q\\right)^{2}} & \\frac{2 q^{2}}{\\left(1 - q\\right)^{2}} & \\frac{2 q^{2}}{\\left(1 - q\\right)^{2}}\\\\0 & 0 & 0 & 0 & 0 & 0 & 0\\\\0 & 0 & 0 & 0 & 0 & 0 & 0\\\\0 & 0 & 0 & 0 & 0 & 0 & 0\\\\0 & 0 & 0 & 0 & 0 & 0 & 0\\\\0 & 0 & 0 & 0 & 0 & 0 & 0\\\\0 & 0 & 0 & 0 & 0 & 0 & 0\\end{matrix}\\right]$"
      ],
      "text/plain": [
       "Matrix([\n",
       "[0, 0, 0, 0, 2*q**2/(1 - q)**2, 2*q**2/(1 - q)**2, 2*q**2/(1 - q)**2],\n",
       "[0, 0, 0, 0,                 0,                 0,                 0],\n",
       "[0, 0, 0, 0,                 0,                 0,                 0],\n",
       "[0, 0, 0, 0,                 0,                 0,                 0],\n",
       "[0, 0, 0, 0,                 0,                 0,                 0],\n",
       "[0, 0, 0, 0,                 0,                 0,                 0],\n",
       "[0, 0, 0, 0,                 0,                 0,                 0]])"
      ]
     },
     "metadata": {},
     "output_type": "display_data"
    }
   ],
   "source": [
    "for k in range(1, 3):\n",
    "    display((Tu * D1.inv()) ** k)"
   ]
  },
  {
   "cell_type": "code",
   "execution_count": 50,
   "metadata": {},
   "outputs": [
    {
     "data": {
      "text/latex": [
       "$\\displaystyle \\left[\\begin{matrix}1 & - \\frac{q}{1 - q} & - \\frac{q}{1 - q} & - \\frac{q}{1 - q} & - \\frac{q}{1 - q}\\\\0 & \\frac{1}{1 - q} & 0 & 0 & 0\\\\0 & 0 & \\frac{1}{1 - q} & 0 & 0\\\\0 & 0 & 0 & \\frac{1}{1 - q} & 0\\\\0 & 0 & 0 & 0 & \\frac{1}{1 - q}\\end{matrix}\\right]$"
      ],
      "text/plain": [
       "Matrix([\n",
       "[1, -q/(1 - q), -q/(1 - q), -q/(1 - q), -q/(1 - q)],\n",
       "[0,  1/(1 - q),          0,          0,          0],\n",
       "[0,          0,  1/(1 - q),          0,          0],\n",
       "[0,          0,          0,  1/(1 - q),          0],\n",
       "[0,          0,          0,          0,  1/(1 - q)]])"
      ]
     },
     "execution_count": 50,
     "metadata": {},
     "output_type": "execute_result"
    }
   ],
   "source": [
    "T.inv()"
   ]
  },
  {
   "cell_type": "code",
   "execution_count": 52,
   "metadata": {},
   "outputs": [
    {
     "data": {
      "text/latex": [
       "$\\displaystyle \\left[\\begin{matrix}1 & - \\frac{q}{1 - q} & - \\frac{q}{1 - q} & - \\frac{q}{1 - q} & - \\frac{q}{1 - q}\\\\0 & \\frac{1}{1 - q} & 0 & 0 & 0\\\\0 & 0 & \\frac{1}{1 - q} & 0 & 0\\\\0 & 0 & 0 & \\frac{1}{1 - q} & 0\\\\0 & 0 & 0 & 0 & \\frac{1}{1 - q}\\end{matrix}\\right]$"
      ],
      "text/plain": [
       "Matrix([\n",
       "[1, -q/(1 - q), -q/(1 - q), -q/(1 - q), -q/(1 - q)],\n",
       "[0,  1/(1 - q),          0,          0,          0],\n",
       "[0,          0,  1/(1 - q),          0,          0],\n",
       "[0,          0,          0,  1/(1 - q),          0],\n",
       "[0,          0,          0,          0,  1/(1 - q)]])"
      ]
     },
     "execution_count": 52,
     "metadata": {},
     "output_type": "execute_result"
    }
   ],
   "source": [
    "R.inv()[:5,:5]"
   ]
  },
  {
   "cell_type": "code",
   "execution_count": null,
   "metadata": {},
   "outputs": [],
   "source": []
  }
 ],
 "metadata": {
  "kernelspec": {
   "display_name": "Python 3",
   "language": "python",
   "name": "python3"
  },
  "language_info": {
   "codemirror_mode": {
    "name": "ipython",
    "version": 3
   },
   "file_extension": ".py",
   "mimetype": "text/x-python",
   "name": "python",
   "nbconvert_exporter": "python",
   "pygments_lexer": "ipython3",
   "version": "3.6.9"
  }
 },
 "nbformat": 4,
 "nbformat_minor": 2
}
