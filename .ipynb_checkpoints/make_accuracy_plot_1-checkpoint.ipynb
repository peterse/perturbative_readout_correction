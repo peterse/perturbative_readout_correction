{
 "cells": [
  {
   "cell_type": "markdown",
   "metadata": {},
   "source": [
    "## Plot statistical 'distance' as a function of truncation point\n",
    "\n",
    "For the first plot, we will show the performance of the _general_ truncation scheme to recover the full bitstring distribution, as a function of cutoff weight $w$."
   ]
  },
  {
   "cell_type": "code",
   "execution_count": 1,
   "metadata": {},
   "outputs": [],
   "source": [
    "import numpy as np\n",
    "import matplotlib.pyplot as plt\n",
    "import scipy\n",
    "\n",
    "import utils\n",
    "import response_matrix"
   ]
  },
  {
   "cell_type": "code",
   "execution_count": 2,
   "metadata": {},
   "outputs": [],
   "source": [
    "# Utilities for making probability distributions\n",
    "\n",
    "def make_uniform(n):\n",
    "    \"\"\"Make the uniform distribution over n qubits.\"\"\"\n",
    "    d = 1 << n\n",
    "    return np.ones(d) / d\n",
    "\n",
    "def make_random(n):\n",
    "    d = 1 << n\n",
    "    out = np.random.rand(d)\n",
    "    return out / out.sum()\n"
   ]
  },
  {
   "cell_type": "markdown",
   "metadata": {},
   "source": [
    "### Compute the corrected prob distribution using Algorithm 1"
   ]
  },
  {
   "cell_type": "markdown",
   "metadata": {},
   "source": [
    "### Construct test R\n",
    "\n",
    "We enforce that $R$ has a tensor structure so that multi-flip events are necessarily exponentially suppressed in weight change of bitstring."
   ]
  },
  {
   "cell_type": "code",
   "execution_count": 3,
   "metadata": {},
   "outputs": [],
   "source": [
    "# Arrays of q(0|1) and q(1|0)\n",
    "q01_arr = [0.09, .07, 0.12, 0.08, 0.11]\n",
    "q10_arr = [0.04, .03, .05, 0.04, 0.02]\n",
    "R = response_matrix.Rmatrix(q01_arr, q10_arr)\n",
    "Rinv = np.linalg.inv(R)"
   ]
  },
  {
   "cell_type": "code",
   "execution_count": 4,
   "metadata": {},
   "outputs": [
    {
     "data": {
      "text/plain": [
       "Text(0.5, 1.0, 'Initial comparison')"
      ]
     },
     "execution_count": 4,
     "metadata": {},
     "output_type": "execute_result"
    },
    {
     "data": {
      "image/png": "[encoded data removed]",
      "text/plain": [
       "<Figure size 432x288 with 1 Axes>"
      ]
     },
     "metadata": {
      "needs_background": "light"
     },
     "output_type": "display_data"
    }
   ],
   "source": [
    "n = len(q01_arr)\n",
    "x = np.arange(1 << n)\n",
    "p_true = make_random(n)\n",
    "p_prime = R @ p_true\n",
    "\n",
    "plt.bar(x, p_true, alpha=0.5, label=\"true distr\")\n",
    "plt.bar(x, p_prime, alpha=0.5, label=\"error distr\")\n",
    "plt.legend()\n",
    "plt.title(\"Initial comparison\")"
   ]
  },
  {
   "cell_type": "code",
   "execution_count": 5,
   "metadata": {},
   "outputs": [],
   "source": [
    "# def slice_for_Rj_v2(n, j):\n",
    "# #     \"\"\"כ'הָב א ביסל מוירע...וי בײ\"\"\"\"\n",
    "#     candidates = list(range(j, -1, -2))\n",
    "#     print(candidates)\n",
    "#     out = []\n",
    "#     d = 1 << n\n",
    "#     for i in range(d):\n",
    "#         for k in range(d):\n",
    "#             if k < i:\n",
    "#                 continue\n",
    "#             if utils.distance(i, k) in candidates:\n",
    "#                 out.append((i,k))\n",
    "#     out = np.asarray(list(zip(*out)))\n",
    "#     slices = tuple(np.hstack((out, out[::-1,:])))\n",
    "#     return slices\n",
    "\n",
    "\n",
    "# def pfull_truncated(R, p_prime, w1, w2=None):\n",
    "#     \"\"\"Compute $R^{-1}p'$ using a series truncation.\n",
    "\n",
    "#     Args:\n",
    "#         R: Baseline response matrix.\n",
    "#         p_prime: Probability distribution representing observations WITH errors\n",
    "#         w1: Cutoff for the _infinite_ series for computing A^{-1}\n",
    "#         w2: Cutoff for the decomposition of R into {R_j: j=1, ..., w2}\n",
    "\n",
    "#     Returns:\n",
    "#         p_fixed: output distribution acheived by inverting R up to truncation\n",
    "#             (w1, w2).\n",
    "#     \"\"\"\n",
    "\n",
    "#     if w2 is None:\n",
    "#         w2 = w1\n",
    "\n",
    "#     d = R.shape[0]\n",
    "#     n = int(np.log2(d))\n",
    "#     # Compute the inverse of diagonal of R efficiently\n",
    "#     Rdiag_inv = np.zeros((d, d), dtype=float)\n",
    "#     Rdiag_inv[np.diag_indices(d)] = np.reciprocal(np.diag(R))\n",
    "    \n",
    "#     # Initialize series truncation for partitioned R\n",
    "#     S = np.zeros((d, d))\n",
    "#     for j in range(1, w2 + 1):\n",
    "#         Rj = np.zeros((d, d))\n",
    "#         Rj[slice_for_Rj_v2(n, j)] = R[slice_for_Rj_v2(n, j)]\n",
    "#         S -= Rdiag_inv @ Rj\n",
    "        \n",
    "#     R_trunc_inv = np.zeros((d, d))\n",
    "#     for k in range(0, w1+1):\n",
    "#         R_trunc_inv += np.linalg.matrix_power(S, k) @ Rdiag_inv\n",
    "    \n",
    "#     return R_trunc_inv @ p_prime"
   ]
  },
  {
   "cell_type": "code",
   "execution_count": null,
   "metadata": {},
   "outputs": [],
   "source": []
  },
  {
   "cell_type": "code",
   "execution_count": 6,
   "metadata": {},
   "outputs": [],
   "source": [
    "# import viz\n",
    "# n = 5\n",
    "# q01_arr = [0.09, .07, 0.12, 0.08, 0.11, 0.06, 0.07, 0.11]\n",
    "# q10_arr = [0.04, .03, .05, 0.04, 0.03, .05, .04, 0.06]\n",
    "# R = response_matrix.Rmatrix(q01_arr[:n], q10_arr[:n])\n",
    "\n",
    "# fig, axes = plt.subplots(1, 2, figsize=(14, 10))\n",
    "# viz.u_imshow(R, n, ax=axes[0], sort_by_weight=True, cmap='seismic', vmin=-1, vmax=1)\n",
    "# R2 = np.zeros((1 << n, 1 << n))\n",
    "# custom_slc = slice_for_Rj_v2(n, 2)\n",
    "# # custom_slc = np.hstack((custom_slc, slice_for_Rj(n, 0)))\n",
    "\n",
    "# R2[custom_slc] = R[custom_slc]\n",
    "# print(R2.sum())\n",
    "# viz.u_imshow(R2, n, ax=axes[1], sort_by_weight=True, cmap='seismic', vmin=-1, vmax=1)\n",
    "\n",
    "# for ax in axes:\n",
    "#     ax.set_xticklabels([])\n",
    "#     ax.set_yticklabels([])\n",
    "# R.shape"
   ]
  },
  {
   "cell_type": "code",
   "execution_count": null,
   "metadata": {},
   "outputs": [],
   "source": [
    "def trace_dist(a, b):\n",
    "    # use trace distance for comparing full distributions\n",
    "    return abs(a - b).sum()\n",
    "\n",
    "# comparison = lambda x,y: scipy.stats.entropy(x,y)\n",
    "comparison = lambda x,y: trace_dist(x,y)\n",
    "\n",
    "q01_arr = np.asarray([0.09, .07, 0.12, 0.08, 0.11, 0.06, 0.07, 0.11, 0.05, 0.08]) / 1.5\n",
    "q10_arr = np.asarray([0.04, .03, .05, 0.04, 0.03, .05, .04, 0.06, 0.05, 0.03]) / 1.5\n",
    "# wvals = list(range(1, 5))\n",
    "# nqubits_lst = list(range(4,8))\n",
    "wvals = [1, 2, 3, 4]\n",
    "nqubits_lst = [4, 5, 6, 7, 8, 10]\n",
    "\n",
    "# Baseline contains the uncorrected distribution comparison to ptrue\n",
    "baseline = np.zeros(len(nqubits_lst))\n",
    "# Outcomes contain truncated result comparisons\n",
    "outcomes = np.zeros((len(wvals), len(nqubits_lst))) # rows correspond to w=1,2...\n",
    "\n",
    "for j, n_qubits in enumerate(nqubits_lst):\n",
    "    # Generate response matrix and artificial readout error\n",
    "    R = response_matrix.Rmatrix(q01_arr[:n_qubits], q10_arr[:n_qubits])\n",
    "    Rinv = np.linalg.inv(R)\n",
    "    p_true = make_random(n_qubits)\n",
    "    p_prime = R @ p_true\n",
    "    baseline[j] = comparison(p_prime, p_true)\n",
    "    for k, w in enumerate(wvals):\n",
    "#         p_fixed = invert_pfull_truncated(R, p_prime, w1=w, w2=w)\n",
    "        p_fixed = response_matrix.invert_pfull_truncated(R, p_prime, w1=w, w2=w)\n",
    "        outcomes[k,j] = comparison(p_fixed, p_true)\n",
    "    "
   ]
  },
  {
   "cell_type": "code",
   "execution_count": null,
   "metadata": {},
   "outputs": [],
   "source": [
    "outcomes"
   ]
  },
  {
   "cell_type": "code",
   "execution_count": null,
   "metadata": {},
   "outputs": [],
   "source": [
    "baseline"
   ]
  },
  {
   "cell_type": "code",
   "execution_count": null,
   "metadata": {},
   "outputs": [],
   "source": [
    "all_outcomes = np.vstack((baseline, outcomes))\n",
    "x = [0] + wvals\n",
    "leglabs = [f\"{x} qubits\" for x in nqubits_lst]\n",
    "\n",
    "fig, ax = plt.subplots(1, 1, figsize=(8, 8))\n",
    "for y, label in zip(all_outcomes.T, leglabs):\n",
    "    ax.plot(x, y, label=label)\n",
    "# axes.plot([0] + wvals, outcomes, labels=nqubits_lst)\n",
    "ax.legend()\n",
    "ax.set_xlabel(\"w: cutoff\")\n",
    "ax.set_xticks(x)\n",
    "ax.set_xticklabels(x)\n",
    "ax.set_ylabel(r\"$d(p, \\tilde{p})$\")\n",
    "ax.set_ylim(0, ax.get_ylim()[1])"
   ]
  },
  {
   "cell_type": "markdown",
   "metadata": {},
   "source": [
    "# Visualizing distributions"
   ]
  },
  {
   "cell_type": "code",
   "execution_count": null,
   "metadata": {},
   "outputs": [],
   "source": [
    "n_qubits = 6\n",
    "q01_arr = [0.09, .07, 0.12, 0.08, 0.11, 0.06, 0.07, 0.11]\n",
    "q10_arr = [0.04, .03, .05, 0.04, 0.03, .05, .04, 0.06]\n",
    "R = response_matrix.Rmatrix(q01_arr[:n_qubits], q10_arr[:n_qubits])\n",
    "Rinv = np.linalg.inv(R)\n",
    "p_true = make_random(n_qubits)\n",
    "p_prime = R @ p_true\n",
    "x = np.arange(1 << n_qubits)\n",
    "\n",
    "wvals = [1, 2, 3, 4, 5]\n",
    "\n",
    "fig, axes = plt.subplots(len(wvals), 1, figsize=(10, 30))\n",
    "kl_divs = []\n",
    "\n",
    "for k, w in enumerate(wvals):\n",
    "    # Empirically i observe that w1,w2 changing independently has little effect on performance\n",
    "    p_fixed = response_matrix.invert_pfull_truncated(R, p_prime, w1=w, w2=w)\n",
    "    axes[k].bar(x, p_true, alpha=0.5, label=\"true distr\", color='b')\n",
    "    axes[k].bar(x, p_fixed, alpha=0.5, label=\"fixed distr\", color='r')\n",
    "    \n",
    "    kl_div = trace_dist(p_fixed, p_true)\n",
    "    axes[k].set_title(f\"w={w}, tr_dist={kl_div:3.5f}\")\n",
    "    kl_divs.append(kl_div)\n",
    "    "
   ]
  },
  {
   "cell_type": "code",
   "execution_count": null,
   "metadata": {},
   "outputs": [],
   "source": [
    "# Plot KL-div as a function of increasing cutoff\n",
    "plt.style.use('./style.mplstyle')\n",
    "\n",
    "fig, ax = plt.subplots(figsize=(8, 8))\n",
    "ax.plot(wvals, kl_divs, label=r\"$\\hat{p}$ vs $p_{true}$\")\n",
    "\n",
    "# Compare to no error correction\n",
    "initial_kl = trace_dist(p_prime, p_true)\n",
    "ax.axhline(initial_kl, ls='--', c='r', label=r\"$p'$ vs $p_{true}$\")\n",
    "\n",
    "# ax.set_title(\"KL_div vs. cutoff w\")\n",
    "ax.semilogy()\n",
    "ax.set_xlabel(r\"Truncation order\")\n",
    "ax.set_ylabel(r\"$d(p, \\tilde{p})$\")\n",
    "ax.set_xticks(wvals)\n",
    "ax.legend(prop={'size': 'x-large'})\n",
    "\n",
    "None"
   ]
  },
  {
   "cell_type": "code",
   "execution_count": null,
   "metadata": {},
   "outputs": [],
   "source": [
    "fig.savefig(\"figure1.pdf\")"
   ]
  },
  {
   "cell_type": "code",
   "execution_count": null,
   "metadata": {},
   "outputs": [],
   "source": []
  }
 ],
 "metadata": {
  "kernelspec": {
   "display_name": "Python 3",
   "language": "python",
   "name": "python3"
  },
  "language_info": {
   "codemirror_mode": {
    "name": "ipython",
    "version": 3
   },
   "file_extension": ".py",
   "mimetype": "text/x-python",
   "name": "python",
   "nbconvert_exporter": "python",
   "pygments_lexer": "ipython3",
   "version": "3.6.9"
  }
 },
 "nbformat": 4,
 "nbformat_minor": 2
}
