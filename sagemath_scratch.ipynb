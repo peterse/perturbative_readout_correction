{
 "cells": [
  {
   "cell_type": "code",
   "execution_count": 1,
   "metadata": {},
   "outputs": [],
   "source": [
    "\n",
    "sqrtiswap = Matrix([\n",
    "    [1, 0, 0, 0],\n",
    "    [0, 1/sqrt(2), i/sqrt(2), 0],\n",
    "    [0, i/sqrt(2), 1/sqrt(2), 0],\n",
    "    [0, 0, 0, 1]]\n",
    ")\n",
    "\n",
    "def Rz(x):\n",
    "    return Matrix([[exp(-i*x/2), 0], [0, exp(i*x/2)]])\n",
    "\n",
    "def Zpow(x):\n",
    "    return Matrix([[1, 0], [0, exp(i* pi * x)]])\n",
    "    \n",
    "    \n",
    "X = Matrix([\n",
    "    [0, 1],\n",
    "    [1, 0]\n",
    "])\n",
    "    \n",
    "Y = Matrix([\n",
    "    [0, -1j],\n",
    "    [1j, 0]\n",
    "])\n",
    "Z = Matrix([[1, 0], [0, -1]])\n",
    "I2 = identity_matrix(2)"
   ]
  },
  {
   "cell_type": "code",
   "execution_count": 9,
   "metadata": {},
   "outputs": [],
   "source": [
    "q = var('q')\n",
    "Q = Matrix([\n",
    "    [1, q],\n",
    "    [0, (1-q)]\n",
    "])"
   ]
  },
  {
   "cell_type": "code",
   "execution_count": 27,
   "metadata": {},
   "outputs": [],
   "source": [
    "S = Q.tensor_product(Q)\n"
   ]
  },
  {
   "cell_type": "code",
   "execution_count": 110,
   "metadata": {},
   "outputs": [],
   "source": [
    "F = Q.tensor_product(Q)\n"
   ]
  },
  {
   "cell_type": "code",
   "execution_count": 117,
   "metadata": {},
   "outputs": [
    {
     "data": {
      "text/plain": [
       "[         1  q/(q - 1)]\n",
       "[         0 -1/(q - 1)]"
      ]
     },
     "execution_count": 117,
     "metadata": {},
     "output_type": "execute_result"
    }
   ],
   "source": [
    "Q.inverse()"
   ]
  },
  {
   "cell_type": "code",
   "execution_count": 118,
   "metadata": {},
   "outputs": [
    {
     "data": {
      "text/plain": [
       "[         1          q|         q        q^2]\n",
       "[         0     -q + 1|         0 -(q - 1)*q]\n",
       "[---------------------+---------------------]\n",
       "[         0          0|    -q + 1 -(q - 1)*q]\n",
       "[         0          0|         0  (q - 1)^2]"
      ]
     },
     "execution_count": 118,
     "metadata": {},
     "output_type": "execute_result"
    }
   ],
   "source": [
    "F"
   ]
  },
  {
   "cell_type": "code",
   "execution_count": 119,
   "metadata": {},
   "outputs": [],
   "source": [
    "Finv = F.inverse()\n",
    "T = F[:3,:3]"
   ]
  },
  {
   "cell_type": "code",
   "execution_count": 122,
   "metadata": {},
   "outputs": [
    {
     "data": {
      "text/plain": [
       "[     1      q      q]\n",
       "[     0 -q + 1      0]\n",
       "[     0      0 -q + 1]"
      ]
     },
     "execution_count": 122,
     "metadata": {},
     "output_type": "execute_result"
    }
   ],
   "source": [
    "T"
   ]
  },
  {
   "cell_type": "code",
   "execution_count": 120,
   "metadata": {},
   "outputs": [
    {
     "data": {
      "text/plain": [
       "[         1  q/(q - 1)  q/(q - 1)]\n",
       "[         0 -1/(q - 1)          0]\n",
       "[         0          0 -1/(q - 1)]"
      ]
     },
     "execution_count": 120,
     "metadata": {},
     "output_type": "execute_result"
    }
   ],
   "source": [
    "T.inverse()"
   ]
  },
  {
   "cell_type": "code",
   "execution_count": 121,
   "metadata": {},
   "outputs": [
    {
     "data": {
      "text/plain": [
       "[            1     q/(q - 1)     q/(q - 1) q^2/(q - 1)^2]\n",
       "[            0    -1/(q - 1)             0  -q/(q - 1)^2]\n",
       "[            0             0    -1/(q - 1)  -q/(q - 1)^2]\n",
       "[            0             0             0  (q - 1)^(-2)]"
      ]
     },
     "execution_count": 121,
     "metadata": {},
     "output_type": "execute_result"
    }
   ],
   "source": [
    "Finv"
   ]
  },
  {
   "cell_type": "markdown",
   "metadata": {},
   "source": [
    "## 3 qubits"
   ]
  },
  {
   "cell_type": "code",
   "execution_count": 125,
   "metadata": {},
   "outputs": [],
   "source": [
    "F = Q.tensor_product(Q).tensor_product(Q)\n",
    "F[[3,4]] = F[[4,3]]\n",
    "F[:,[3,4]] = F[:,[4,3]]\n",
    "F_inv = F.inverse()"
   ]
  },
  {
   "cell_type": "code",
   "execution_count": 128,
   "metadata": {},
   "outputs": [
    {
     "data": {
      "text/plain": [
       "[         1  q/(q - 1)  q/(q - 1)  q/(q - 1)]\n",
       "[         0 -1/(q - 1)          0          0]\n",
       "[         0          0 -1/(q - 1)          0]\n",
       "[         0          0          0 -1/(q - 1)]"
      ]
     },
     "execution_count": 128,
     "metadata": {},
     "output_type": "execute_result"
    }
   ],
   "source": [
    "F_inv[:4,:4]"
   ]
  },
  {
   "cell_type": "code",
   "execution_count": 129,
   "metadata": {},
   "outputs": [],
   "source": [
    "T = F[:4,:4]"
   ]
  },
  {
   "cell_type": "code",
   "execution_count": 130,
   "metadata": {},
   "outputs": [
    {
     "data": {
      "text/plain": [
       "[         1  q/(q - 1)  q/(q - 1)  q/(q - 1)]\n",
       "[         0 -1/(q - 1)          0          0]\n",
       "[         0          0 -1/(q - 1)          0]\n",
       "[         0          0          0 -1/(q - 1)]"
      ]
     },
     "execution_count": 130,
     "metadata": {},
     "output_type": "execute_result"
    }
   ],
   "source": [
    "T.inverse()"
   ]
  },
  {
   "cell_type": "code",
   "execution_count": 140,
   "metadata": {},
   "outputs": [
    {
     "data": {
      "text/plain": [
       "<class 'sage.interfaces.r.R'>"
      ]
     },
     "execution_count": 140,
     "metadata": {},
     "output_type": "execute_result"
    }
   ],
   "source": []
  },
  {
   "cell_type": "code",
   "execution_count": 138,
   "metadata": {},
   "outputs": [
    {
     "ename": "TypeError",
     "evalue": "unsupported operands for <<: 1, [0 1 2 3]",
     "output_type": "error",
     "traceback": [
      "\u001b[0;31m---------------------------------------------------------------------------\u001b[0m",
      "\u001b[0;31mTypeError\u001b[0m                                 Traceback (most recent call last)",
      "\u001b[0;32m/opt/sagemath-9.0/local/lib/python3.7/site-packages/sage/rings/integer.pyx\u001b[0m in \u001b[0;36msage.rings.integer.Integer._shift_helper (build/cythonized/sage/rings/integer.c:39398)\u001b[0;34m()\u001b[0m\n\u001b[1;32m   6517\u001b[0m                 \u001b[0;32mtry\u001b[0m\u001b[0;34m:\u001b[0m\u001b[0;34m\u001b[0m\u001b[0;34m\u001b[0m\u001b[0m\n\u001b[0;32m-> 6518\u001b[0;31m                     \u001b[0my\u001b[0m \u001b[0;34m=\u001b[0m \u001b[0mInteger\u001b[0m\u001b[0;34m(\u001b[0m\u001b[0my\u001b[0m\u001b[0;34m)\u001b[0m\u001b[0;34m\u001b[0m\u001b[0;34m\u001b[0m\u001b[0m\n\u001b[0m\u001b[1;32m   6519\u001b[0m                 \u001b[0;32mexcept\u001b[0m \u001b[0mTypeError\u001b[0m\u001b[0;34m:\u001b[0m\u001b[0;34m\u001b[0m\u001b[0;34m\u001b[0m\u001b[0m\n",
      "\u001b[0;32m/opt/sagemath-9.0/local/lib/python3.7/site-packages/sage/rings/integer.pyx\u001b[0m in \u001b[0;36msage.rings.integer.Integer.__init__ (build/cythonized/sage/rings/integer.c:6967)\u001b[0;34m()\u001b[0m\n\u001b[1;32m    741\u001b[0m \u001b[0;34m\u001b[0m\u001b[0m\n\u001b[0;32m--> 742\u001b[0;31m                 \u001b[0;32mraise\u001b[0m \u001b[0mTypeError\u001b[0m\u001b[0;34m(\u001b[0m\u001b[0;34m\"unable to coerce %s to an integer\"\u001b[0m \u001b[0;34m%\u001b[0m \u001b[0mtype\u001b[0m\u001b[0;34m(\u001b[0m\u001b[0mx\u001b[0m\u001b[0;34m)\u001b[0m\u001b[0;34m)\u001b[0m\u001b[0;34m\u001b[0m\u001b[0;34m\u001b[0m\u001b[0m\n\u001b[0m\u001b[1;32m    743\u001b[0m \u001b[0;34m\u001b[0m\u001b[0m\n",
      "\u001b[0;31mTypeError\u001b[0m: unable to coerce <class 'numpy.ndarray'> to an integer",
      "\nDuring handling of the above exception, another exception occurred:\n",
      "\u001b[0;31mTypeError\u001b[0m                                 Traceback (most recent call last)",
      "\u001b[0;32m<ipython-input-138-a066c5c3dbf6>\u001b[0m in \u001b[0;36m<module>\u001b[0;34m()\u001b[0m\n\u001b[0;32m----> 1\u001b[0;31m \u001b[0midxsort_by_weight\u001b[0m\u001b[0;34m(\u001b[0m\u001b[0mInteger\u001b[0m\u001b[0;34m(\u001b[0m\u001b[0;36m4\u001b[0m\u001b[0;34m)\u001b[0m\u001b[0;34m)\u001b[0m\u001b[0;34m\u001b[0m\u001b[0;34m\u001b[0m\u001b[0m\n\u001b[0m",
      "\u001b[0;32m<ipython-input-137-8801b8fb1a95>\u001b[0m in \u001b[0;36midxsort_by_weight\u001b[0;34m(m)\u001b[0m\n\u001b[1;32m     22\u001b[0m     \u001b[0mweight\u001b[0m \u001b[0mof\u001b[0m \u001b[0meach\u001b[0m \u001b[0mvalue\u001b[0m\u001b[0;31m'\u001b[0m\u001b[0ms\u001b[0m \u001b[0mbinary\u001b[0m \u001b[0mrepresentation\u001b[0m\u001b[0;34m.\u001b[0m\u001b[0;34m\u001b[0m\u001b[0;34m\u001b[0m\u001b[0m\n\u001b[1;32m     23\u001b[0m     \"\"\"\n\u001b[0;32m---> 24\u001b[0;31m     \u001b[0mx\u001b[0m \u001b[0;34m=\u001b[0m \u001b[0mbinarr\u001b[0m\u001b[0;34m(\u001b[0m\u001b[0mm\u001b[0m\u001b[0;34m)\u001b[0m\u001b[0;34m\u001b[0m\u001b[0;34m\u001b[0m\u001b[0m\n\u001b[0m\u001b[1;32m     25\u001b[0m     \u001b[0mweights\u001b[0m \u001b[0;34m=\u001b[0m \u001b[0mnp\u001b[0m\u001b[0;34m.\u001b[0m\u001b[0msum\u001b[0m\u001b[0;34m(\u001b[0m\u001b[0mx\u001b[0m\u001b[0;34m,\u001b[0m \u001b[0maxis\u001b[0m\u001b[0;34m=\u001b[0m\u001b[0mInteger\u001b[0m\u001b[0;34m(\u001b[0m\u001b[0;36m1\u001b[0m\u001b[0;34m)\u001b[0m\u001b[0;34m)\u001b[0m\u001b[0;34m\u001b[0m\u001b[0;34m\u001b[0m\u001b[0m\n\u001b[1;32m     26\u001b[0m     \u001b[0;32mreturn\u001b[0m \u001b[0mnp\u001b[0m\u001b[0;34m.\u001b[0m\u001b[0margsort\u001b[0m\u001b[0;34m(\u001b[0m\u001b[0mweights\u001b[0m\u001b[0;34m)\u001b[0m\u001b[0;34m\u001b[0m\u001b[0;34m\u001b[0m\u001b[0m\n",
      "\u001b[0;32m<ipython-input-137-8801b8fb1a95>\u001b[0m in \u001b[0;36mbinarr\u001b[0;34m(m)\u001b[0m\n\u001b[1;32m     14\u001b[0m     \"\"\"\n\u001b[1;32m     15\u001b[0m     \u001b[0md\u001b[0m \u001b[0;34m=\u001b[0m \u001b[0mnp\u001b[0m\u001b[0;34m.\u001b[0m\u001b[0marange\u001b[0m\u001b[0;34m(\u001b[0m\u001b[0mInteger\u001b[0m\u001b[0;34m(\u001b[0m\u001b[0;36m2\u001b[0m\u001b[0;34m)\u001b[0m \u001b[0;34m**\u001b[0m \u001b[0mm\u001b[0m\u001b[0;34m)\u001b[0m\u001b[0;34m\u001b[0m\u001b[0;34m\u001b[0m\u001b[0m\n\u001b[0;32m---> 16\u001b[0;31m     \u001b[0;32mreturn\u001b[0m \u001b[0;34m(\u001b[0m\u001b[0;34m(\u001b[0m\u001b[0;34m(\u001b[0m\u001b[0md\u001b[0m\u001b[0;34m[\u001b[0m\u001b[0;34m:\u001b[0m\u001b[0;34m,\u001b[0m\u001b[0;32mNone\u001b[0m\u001b[0;34m]\u001b[0m \u001b[0;34m&\u001b[0m \u001b[0;34m(\u001b[0m\u001b[0mInteger\u001b[0m\u001b[0;34m(\u001b[0m\u001b[0;36m1\u001b[0m\u001b[0;34m)\u001b[0m \u001b[0;34m<<\u001b[0m \u001b[0mnp\u001b[0m\u001b[0;34m.\u001b[0m\u001b[0marange\u001b[0m\u001b[0;34m(\u001b[0m\u001b[0mm\u001b[0m\u001b[0;34m)\u001b[0m\u001b[0;34m)\u001b[0m\u001b[0;34m)\u001b[0m\u001b[0;34m)\u001b[0m \u001b[0;34m>\u001b[0m \u001b[0mInteger\u001b[0m\u001b[0;34m(\u001b[0m\u001b[0;36m0\u001b[0m\u001b[0;34m)\u001b[0m\u001b[0;34m)\u001b[0m\u001b[0;34m.\u001b[0m\u001b[0mastype\u001b[0m\u001b[0;34m(\u001b[0m\u001b[0mint\u001b[0m\u001b[0;34m)\u001b[0m\u001b[0;34m[\u001b[0m\u001b[0;34m:\u001b[0m\u001b[0;34m,\u001b[0m\u001b[0;34m:\u001b[0m\u001b[0;34m:\u001b[0m\u001b[0;34m-\u001b[0m\u001b[0mInteger\u001b[0m\u001b[0;34m(\u001b[0m\u001b[0;36m1\u001b[0m\u001b[0;34m)\u001b[0m\u001b[0;34m]\u001b[0m\u001b[0;34m\u001b[0m\u001b[0;34m\u001b[0m\u001b[0m\n\u001b[0m\u001b[1;32m     17\u001b[0m \u001b[0;34m\u001b[0m\u001b[0m\n\u001b[1;32m     18\u001b[0m \u001b[0;32mdef\u001b[0m \u001b[0midxsort_by_weight\u001b[0m\u001b[0;34m(\u001b[0m\u001b[0mm\u001b[0m\u001b[0;34m)\u001b[0m\u001b[0;34m:\u001b[0m\u001b[0;34m\u001b[0m\u001b[0;34m\u001b[0m\u001b[0m\n",
      "\u001b[0;32m/opt/sagemath-9.0/local/lib/python3.7/site-packages/sage/rings/integer.pyx\u001b[0m in \u001b[0;36msage.rings.integer.Integer.__lshift__ (build/cythonized/sage/rings/integer.c:39917)\u001b[0;34m()\u001b[0m\n\u001b[1;32m   6579\u001b[0m         \u001b[0;32mif\u001b[0m \u001b[0;32mnot\u001b[0m \u001b[0misinstance\u001b[0m\u001b[0;34m(\u001b[0m\u001b[0mx\u001b[0m\u001b[0;34m,\u001b[0m \u001b[0mInteger\u001b[0m\u001b[0;34m)\u001b[0m\u001b[0;34m:\u001b[0m\u001b[0;34m\u001b[0m\u001b[0;34m\u001b[0m\u001b[0m\n\u001b[1;32m   6580\u001b[0m             \u001b[0;32mreturn\u001b[0m \u001b[0mx\u001b[0m \u001b[0;34m<<\u001b[0m \u001b[0mint\u001b[0m\u001b[0;34m(\u001b[0m\u001b[0my\u001b[0m\u001b[0;34m)\u001b[0m\u001b[0;34m\u001b[0m\u001b[0;34m\u001b[0m\u001b[0m\n\u001b[0;32m-> 6581\u001b[0;31m         \u001b[0;32mreturn\u001b[0m \u001b[0;34m(\u001b[0m\u001b[0;34m<\u001b[0m\u001b[0mInteger\u001b[0m\u001b[0;34m>\u001b[0m\u001b[0mx\u001b[0m\u001b[0;34m)\u001b[0m\u001b[0;34m.\u001b[0m\u001b[0m_shift_helper\u001b[0m\u001b[0;34m(\u001b[0m\u001b[0my\u001b[0m\u001b[0;34m,\u001b[0m \u001b[0;36m1\u001b[0m\u001b[0;34m)\u001b[0m\u001b[0;34m\u001b[0m\u001b[0;34m\u001b[0m\u001b[0m\n\u001b[0m\u001b[1;32m   6582\u001b[0m \u001b[0;34m\u001b[0m\u001b[0m\n\u001b[1;32m   6583\u001b[0m     \u001b[0;32mdef\u001b[0m \u001b[0m__rshift__\u001b[0m\u001b[0;34m(\u001b[0m\u001b[0mx\u001b[0m\u001b[0;34m,\u001b[0m \u001b[0my\u001b[0m\u001b[0;34m)\u001b[0m\u001b[0;34m:\u001b[0m\u001b[0;34m\u001b[0m\u001b[0;34m\u001b[0m\u001b[0m\n",
      "\u001b[0;32m/opt/sagemath-9.0/local/lib/python3.7/site-packages/sage/rings/integer.pyx\u001b[0m in \u001b[0;36msage.rings.integer.Integer._shift_helper (build/cythonized/sage/rings/integer.c:39471)\u001b[0;34m()\u001b[0m\n\u001b[1;32m   6518\u001b[0m                     \u001b[0my\u001b[0m \u001b[0;34m=\u001b[0m \u001b[0mInteger\u001b[0m\u001b[0;34m(\u001b[0m\u001b[0my\u001b[0m\u001b[0;34m)\u001b[0m\u001b[0;34m\u001b[0m\u001b[0;34m\u001b[0m\u001b[0m\n\u001b[1;32m   6519\u001b[0m                 \u001b[0;32mexcept\u001b[0m \u001b[0mTypeError\u001b[0m\u001b[0;34m:\u001b[0m\u001b[0;34m\u001b[0m\u001b[0;34m\u001b[0m\u001b[0m\n\u001b[0;32m-> 6520\u001b[0;31m                     \u001b[0;32mraise\u001b[0m \u001b[0mTypeError\u001b[0m\u001b[0;34m(\u001b[0m\u001b[0;34m\"unsupported operands for %s: %s, %s\"\u001b[0m\u001b[0;34m%\u001b[0m\u001b[0;34m(\u001b[0m\u001b[0;34m(\u001b[0m\u001b[0;34m\"<<\"\u001b[0m \u001b[0;32mif\u001b[0m \u001b[0msign\u001b[0m \u001b[0;34m==\u001b[0m \u001b[0;36m1\u001b[0m \u001b[0;32melse\u001b[0m \u001b[0;34m\">>\"\u001b[0m\u001b[0;34m)\u001b[0m\u001b[0;34m,\u001b[0m \u001b[0mself\u001b[0m\u001b[0;34m,\u001b[0m \u001b[0my\u001b[0m\u001b[0;34m)\u001b[0m\u001b[0;34m)\u001b[0m\u001b[0;34m\u001b[0m\u001b[0;34m\u001b[0m\u001b[0m\n\u001b[0m\u001b[1;32m   6521\u001b[0m                 \u001b[0;32mexcept\u001b[0m \u001b[0mValueError\u001b[0m\u001b[0;34m:\u001b[0m\u001b[0;34m\u001b[0m\u001b[0;34m\u001b[0m\u001b[0m\n\u001b[1;32m   6522\u001b[0m                     \u001b[0;32mreturn\u001b[0m \u001b[0mcoercion_model\u001b[0m\u001b[0;34m.\u001b[0m\u001b[0mbin_op\u001b[0m\u001b[0;34m(\u001b[0m\u001b[0mself\u001b[0m\u001b[0;34m,\u001b[0m \u001b[0my\u001b[0m\u001b[0;34m,\u001b[0m \u001b[0moperator\u001b[0m\u001b[0;34m.\u001b[0m\u001b[0mlshift\u001b[0m \u001b[0;32mif\u001b[0m \u001b[0msign\u001b[0m \u001b[0;34m==\u001b[0m \u001b[0;36m1\u001b[0m \u001b[0;32melse\u001b[0m \u001b[0moperator\u001b[0m\u001b[0;34m.\u001b[0m\u001b[0mrshift\u001b[0m\u001b[0;34m)\u001b[0m\u001b[0;34m\u001b[0m\u001b[0;34m\u001b[0m\u001b[0m\n",
      "\u001b[0;31mTypeError\u001b[0m: unsupported operands for <<: 1, [0 1 2 3]"
     ]
    }
   ],
   "source": [
    "idxsort_by_weight(4)"
   ]
  },
  {
   "cell_type": "code",
   "execution_count": 131,
   "metadata": {},
   "outputs": [],
   "source": [
    "F = Q.tensor_product(Q).tensor_product(Q).tensor_product(Q)\n",
    "F[[3,4]] = F[[4,3]]\n",
    "F[:,[3,4]] = F[:,[4,3]]"
   ]
  },
  {
   "cell_type": "code",
   "execution_count": 132,
   "metadata": {},
   "outputs": [
    {
     "data": {
      "text/plain": [
       "[            1             q|            q             q|          q^2           q^2|          q^2           q^3|            q           q^2|          q^2           q^3|          q^2           q^3|          q^3           q^4]\n",
       "[            0        -q + 1|            0             0|   -(q - 1)*q    -(q - 1)*q|            0  -(q - 1)*q^2|            0    -(q - 1)*q|            0  -(q - 1)*q^2|            0  -(q - 1)*q^2|            0  -(q - 1)*q^3]\n",
       "[---------------------------+---------------------------+---------------------------+---------------------------+---------------------------+---------------------------+---------------------------+---------------------------]\n",
       "[            0             0|       -q + 1             0|   -(q - 1)*q             0|   -(q - 1)*q  -(q - 1)*q^2|            0             0|   -(q - 1)*q  -(q - 1)*q^2|            0             0| -(q - 1)*q^2  -(q - 1)*q^3]\n",
       "[            0             0|            0        -q + 1|            0    -(q - 1)*q|   -(q - 1)*q  -(q - 1)*q^2|            0             0|            0             0|   -(q - 1)*q  -(q - 1)*q^2| -(q - 1)*q^2  -(q - 1)*q^3]\n",
       "[---------------------------+---------------------------+---------------------------+---------------------------+---------------------------+---------------------------+---------------------------+---------------------------]\n",
       "[            0             0|            0             0|    (q - 1)^2             0|            0   (q - 1)^2*q|            0             0|            0   (q - 1)^2*q|            0             0|            0 (q - 1)^2*q^2]\n",
       "[            0             0|            0             0|            0     (q - 1)^2|            0   (q - 1)^2*q|            0             0|            0             0|            0   (q - 1)^2*q|            0 (q - 1)^2*q^2]\n",
       "[---------------------------+---------------------------+---------------------------+---------------------------+---------------------------+---------------------------+---------------------------+---------------------------]\n",
       "[            0             0|            0             0|            0             0|    (q - 1)^2   (q - 1)^2*q|            0             0|            0             0|            0             0|  (q - 1)^2*q (q - 1)^2*q^2]\n",
       "[            0             0|            0             0|            0             0|            0    -(q - 1)^3|            0             0|            0             0|            0             0|            0  -(q - 1)^3*q]\n",
       "[---------------------------+---------------------------+---------------------------+---------------------------+---------------------------+---------------------------+---------------------------+---------------------------]\n",
       "[            0             0|            0             0|            0             0|            0             0|       -q + 1    -(q - 1)*q|   -(q - 1)*q  -(q - 1)*q^2|   -(q - 1)*q  -(q - 1)*q^2| -(q - 1)*q^2  -(q - 1)*q^3]\n",
       "[            0             0|            0             0|            0             0|            0             0|            0     (q - 1)^2|            0   (q - 1)^2*q|            0   (q - 1)^2*q|            0 (q - 1)^2*q^2]\n",
       "[---------------------------+---------------------------+---------------------------+---------------------------+---------------------------+---------------------------+---------------------------+---------------------------]\n",
       "[            0             0|            0             0|            0             0|            0             0|            0             0|    (q - 1)^2   (q - 1)^2*q|            0             0|  (q - 1)^2*q (q - 1)^2*q^2]\n",
       "[            0             0|            0             0|            0             0|            0             0|            0             0|            0    -(q - 1)^3|            0             0|            0  -(q - 1)^3*q]\n",
       "[---------------------------+---------------------------+---------------------------+---------------------------+---------------------------+---------------------------+---------------------------+---------------------------]\n",
       "[            0             0|            0             0|            0             0|            0             0|            0             0|            0             0|    (q - 1)^2   (q - 1)^2*q|  (q - 1)^2*q (q - 1)^2*q^2]\n",
       "[            0             0|            0             0|            0             0|            0             0|            0             0|            0             0|            0    -(q - 1)^3|            0  -(q - 1)^3*q]\n",
       "[---------------------------+---------------------------+---------------------------+---------------------------+---------------------------+---------------------------+---------------------------+---------------------------]\n",
       "[            0             0|            0             0|            0             0|            0             0|            0             0|            0             0|            0             0|   -(q - 1)^3  -(q - 1)^3*q]\n",
       "[            0             0|            0             0|            0             0|            0             0|            0             0|            0             0|            0             0|            0     (q - 1)^4]"
      ]
     },
     "execution_count": 132,
     "metadata": {},
     "output_type": "execute_result"
    }
   ],
   "source": [
    "F"
   ]
  },
  {
   "cell_type": "code",
   "execution_count": 92,
   "metadata": {},
   "outputs": [],
   "source": [
    "T = F[:4,:4]"
   ]
  },
  {
   "cell_type": "code",
   "execution_count": 93,
   "metadata": {},
   "outputs": [
    {
     "data": {
      "text/plain": [
       "[     1      q      q      q]\n",
       "[     0 -q + 1      0      0]\n",
       "[     0      0 -q + 1      0]\n",
       "[     0      0      0 -q + 1]"
      ]
     },
     "execution_count": 93,
     "metadata": {},
     "output_type": "execute_result"
    }
   ],
   "source": [
    "T"
   ]
  },
  {
   "cell_type": "code",
   "execution_count": 94,
   "metadata": {},
   "outputs": [],
   "source": [
    "D = diagonal_matrix(T.diagonal())\n",
    "Tu = T - D"
   ]
  },
  {
   "cell_type": "code",
   "execution_count": 95,
   "metadata": {},
   "outputs": [
    {
     "data": {
      "text/plain": [
       "[     1      0      0      0]\n",
       "[     0 -q + 1      0      0]\n",
       "[     0      0 -q + 1      0]\n",
       "[     0      0      0 -q + 1]"
      ]
     },
     "execution_count": 95,
     "metadata": {},
     "output_type": "execute_result"
    }
   ],
   "source": [
    "D"
   ]
  },
  {
   "cell_type": "code",
   "execution_count": 96,
   "metadata": {},
   "outputs": [
    {
     "data": {
      "text/plain": [
       "[0 q q q]\n",
       "[0 0 0 0]\n",
       "[0 0 0 0]\n",
       "[0 0 0 0]"
      ]
     },
     "execution_count": 96,
     "metadata": {},
     "output_type": "execute_result"
    }
   ],
   "source": [
    "Tu"
   ]
  },
  {
   "cell_type": "code",
   "execution_count": 97,
   "metadata": {},
   "outputs": [
    {
     "data": {
      "text/plain": [
       "[0 0 0 0]\n",
       "[0 0 0 0]\n",
       "[0 0 0 0]\n",
       "[0 0 0 0]"
      ]
     },
     "execution_count": 97,
     "metadata": {},
     "output_type": "execute_result"
    }
   ],
   "source": [
    "Tu ^ 2"
   ]
  },
  {
   "cell_type": "code",
   "execution_count": 98,
   "metadata": {},
   "outputs": [
    {
     "data": {
      "text/plain": [
       "[         1  q/(q - 1)  q/(q - 1)  q/(q - 1)]\n",
       "[         0 -1/(q - 1)          0          0]\n",
       "[         0          0 -1/(q - 1)          0]\n",
       "[         0          0          0 -1/(q - 1)]"
      ]
     },
     "execution_count": 98,
     "metadata": {},
     "output_type": "execute_result"
    }
   ],
   "source": [
    "T.inverse()"
   ]
  },
  {
   "cell_type": "code",
   "execution_count": 99,
   "metadata": {},
   "outputs": [
    {
     "data": {
      "text/plain": [
       "[             1      q/(q - 1)      q/(q - 1)      q/(q - 1)  q^2/(q - 1)^2  q^2/(q - 1)^2  q^2/(q - 1)^2  q^3/(q - 1)^3]\n",
       "[             0     -1/(q - 1)              0              0   -q/(q - 1)^2   -q/(q - 1)^2              0 -q^2/(q - 1)^3]\n",
       "[             0              0     -1/(q - 1)              0   -q/(q - 1)^2              0   -q/(q - 1)^2 -q^2/(q - 1)^3]\n",
       "[             0              0              0     -1/(q - 1)              0   -q/(q - 1)^2   -q/(q - 1)^2 -q^2/(q - 1)^3]\n",
       "[             0              0              0              0   (q - 1)^(-2)              0              0    q/(q - 1)^3]\n",
       "[             0              0              0              0              0   (q - 1)^(-2)              0    q/(q - 1)^3]\n",
       "[             0              0              0              0              0              0   (q - 1)^(-2)    q/(q - 1)^3]\n",
       "[             0              0              0              0              0              0              0   -1/(q - 1)^3]"
      ]
     },
     "execution_count": 99,
     "metadata": {},
     "output_type": "execute_result"
    }
   ],
   "source": [
    "F.inverse()"
   ]
  },
  {
   "cell_type": "code",
   "execution_count": 89,
   "metadata": {},
   "outputs": [
    {
     "name": "stdout",
     "output_type": "stream",
     "text": [
      "0\n",
      "0\n",
      "0\n",
      "0\n",
      "0\n",
      "0\n",
      "0\n",
      "q^3/(q - 1)^3\n"
     ]
    }
   ],
   "source": [
    "Tinv_top = T.inverse()[0]\n",
    "Finv_top = F.inverse()[0]\n",
    "for i in range(7):\n",
    "    print(Tinv_top[i] - Finv_top[i])\n",
    "print(Finv_top[-1])"
   ]
  },
  {
   "cell_type": "code",
   "execution_count": 80,
   "metadata": {},
   "outputs": [
    {
     "data": {
      "text/plain": [
       "[            1     q/(q - 1)     q/(q - 1)     q/(q - 1) q^2/(q - 1)^2 q^2/(q - 1)^2 q^2/(q - 1)^2]"
      ]
     },
     "execution_count": 80,
     "metadata": {},
     "output_type": "execute_result"
    }
   ],
   "source": [
    "Tinv_top"
   ]
  },
  {
   "cell_type": "code",
   "execution_count": null,
   "metadata": {},
   "outputs": [],
   "source": []
  }
 ],
 "metadata": {
  "kernelspec": {
   "display_name": "SageMath 9.0",
   "language": "sage",
   "name": "sagemath"
  },
  "language_info": {
   "codemirror_mode": {
    "name": "ipython",
    "version": 3
   },
   "file_extension": ".py",
   "mimetype": "text/x-python",
   "name": "python",
   "nbconvert_exporter": "python",
   "pygments_lexer": "ipython3",
   "version": "3.7.3"
  }
 },
 "nbformat": 4,
 "nbformat_minor": 2
}
