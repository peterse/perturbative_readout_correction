{
 "cells": [
  {
   "cell_type": "markdown",
   "metadata": {},
   "source": [
    "## Visual walkthrough of Theorem 1\n",
    "\n",
    "This notebook will provide a tangible example of deriving Theorem 1, and also show that the techniques used are not so complicated as they seem."
   ]
  },
  {
   "cell_type": "code",
   "execution_count": 1,
   "metadata": {},
   "outputs": [],
   "source": [
    "import sympy\n",
    "import numpy as np\n",
    "\n",
    "import utils"
   ]
  },
  {
   "cell_type": "markdown",
   "metadata": {},
   "source": [
    "Create a single-qubit response matrix $Q$ that will be tensored to construct $R$"
   ]
  },
  {
   "cell_type": "code",
   "execution_count": 19,
   "metadata": {},
   "outputs": [],
   "source": [
    "q = sympy.Symbol('q')\n",
    "mat = sympy.Matrix([\n",
    "    [1, q],\n",
    "    [0, 1-q],\n",
    "])"
   ]
  },
  {
   "cell_type": "markdown",
   "metadata": {},
   "source": [
    "Construct $R$ over $n$ qubits"
   ]
  },
  {
   "cell_type": "code",
   "execution_count": 20,
   "metadata": {},
   "outputs": [
    {
     "data": {
      "text/latex": [
       "$\\displaystyle \\left[\\begin{matrix}1 & q & q & q^{2} & q & q^{2} & q^{2} & q^{3}\\\\0 & 1 - q & 0 & q \\left(1 - q\\right) & 0 & q \\left(1 - q\\right) & 0 & q^{2} \\left(1 - q\\right)\\\\0 & 0 & 1 - q & q \\left(1 - q\\right) & 0 & 0 & q \\left(1 - q\\right) & q^{2} \\left(1 - q\\right)\\\\0 & 0 & 0 & \\left(1 - q\\right)^{2} & 0 & 0 & 0 & q \\left(1 - q\\right)^{2}\\\\0 & 0 & 0 & 0 & 1 - q & q \\left(1 - q\\right) & q \\left(1 - q\\right) & q^{2} \\left(1 - q\\right)\\\\0 & 0 & 0 & 0 & 0 & \\left(1 - q\\right)^{2} & 0 & q \\left(1 - q\\right)^{2}\\\\0 & 0 & 0 & 0 & 0 & 0 & \\left(1 - q\\right)^{2} & q \\left(1 - q\\right)^{2}\\\\0 & 0 & 0 & 0 & 0 & 0 & 0 & \\left(1 - q\\right)^{3}\\end{matrix}\\right]$"
      ],
      "text/plain": [
       "Matrix([\n",
       "[1,     q,     q,       q**2,     q,       q**2,       q**2,         q**3],\n",
       "[0, 1 - q,     0,  q*(1 - q),     0,  q*(1 - q),          0, q**2*(1 - q)],\n",
       "[0,     0, 1 - q,  q*(1 - q),     0,          0,  q*(1 - q), q**2*(1 - q)],\n",
       "[0,     0,     0, (1 - q)**2,     0,          0,          0, q*(1 - q)**2],\n",
       "[0,     0,     0,          0, 1 - q,  q*(1 - q),  q*(1 - q), q**2*(1 - q)],\n",
       "[0,     0,     0,          0,     0, (1 - q)**2,          0, q*(1 - q)**2],\n",
       "[0,     0,     0,          0,     0,          0, (1 - q)**2, q*(1 - q)**2],\n",
       "[0,     0,     0,          0,     0,          0,          0,   (1 - q)**3]])"
      ]
     },
     "execution_count": 20,
     "metadata": {},
     "output_type": "execute_result"
    }
   ],
   "source": [
    "n = 3\n",
    "idx_sort = utils.idxsort_by_weight(n)\n",
    "R0 = sympy.kronecker_product(*(mat,)*n)\n",
    "R0"
   ]
  },
  {
   "cell_type": "markdown",
   "metadata": {},
   "source": [
    "Reorder $R$ according to index binary weights"
   ]
  },
  {
   "cell_type": "code",
   "execution_count": 21,
   "metadata": {
    "scrolled": false
   },
   "outputs": [
    {
     "data": {
      "text/latex": [
       "$\\displaystyle \\left[\\begin{matrix}1 & q & q & q & q^{2} & q^{2} & q^{2} & q^{3}\\\\0 & 1 - q & 0 & 0 & q \\left(1 - q\\right) & q \\left(1 - q\\right) & 0 & q^{2} \\left(1 - q\\right)\\\\0 & 0 & 1 - q & 0 & q \\left(1 - q\\right) & 0 & q \\left(1 - q\\right) & q^{2} \\left(1 - q\\right)\\\\0 & 0 & 0 & 1 - q & 0 & q \\left(1 - q\\right) & q \\left(1 - q\\right) & q^{2} \\left(1 - q\\right)\\\\0 & 0 & 0 & 0 & \\left(1 - q\\right)^{2} & 0 & 0 & q \\left(1 - q\\right)^{2}\\\\0 & 0 & 0 & 0 & 0 & \\left(1 - q\\right)^{2} & 0 & q \\left(1 - q\\right)^{2}\\\\0 & 0 & 0 & 0 & 0 & 0 & \\left(1 - q\\right)^{2} & q \\left(1 - q\\right)^{2}\\\\0 & 0 & 0 & 0 & 0 & 0 & 0 & \\left(1 - q\\right)^{3}\\end{matrix}\\right]$"
      ],
      "text/plain": [
       "Matrix([\n",
       "[1,     q,     q,     q,       q**2,       q**2,       q**2,         q**3],\n",
       "[0, 1 - q,     0,     0,  q*(1 - q),  q*(1 - q),          0, q**2*(1 - q)],\n",
       "[0,     0, 1 - q,     0,  q*(1 - q),          0,  q*(1 - q), q**2*(1 - q)],\n",
       "[0,     0,     0, 1 - q,          0,  q*(1 - q),  q*(1 - q), q**2*(1 - q)],\n",
       "[0,     0,     0,     0, (1 - q)**2,          0,          0, q*(1 - q)**2],\n",
       "[0,     0,     0,     0,          0, (1 - q)**2,          0, q*(1 - q)**2],\n",
       "[0,     0,     0,     0,          0,          0, (1 - q)**2, q*(1 - q)**2],\n",
       "[0,     0,     0,     0,          0,          0,          0,   (1 - q)**3]])"
      ]
     },
     "execution_count": 21,
     "metadata": {},
     "output_type": "execute_result"
    }
   ],
   "source": [
    "R = R0[idx_sort,:][:,idx_sort]\n",
    "R"
   ]
  },
  {
   "cell_type": "markdown",
   "metadata": {},
   "source": [
    "Inspect $R^{-1}$"
   ]
  },
  {
   "cell_type": "code",
   "execution_count": 22,
   "metadata": {},
   "outputs": [
    {
     "data": {
      "text/latex": [
       "$\\displaystyle \\left[\\begin{matrix}1 & - \\frac{q}{1 - q} & - \\frac{q}{1 - q} & - \\frac{q}{1 - q} & \\frac{q^{2}}{\\left(1 - q\\right)^{2}} & \\frac{q^{2}}{\\left(1 - q\\right)^{2}} & \\frac{q^{2}}{\\left(1 - q\\right)^{2}} & - \\frac{q^{3}}{\\left(1 - q\\right)^{3}}\\\\0 & \\frac{1}{1 - q} & 0 & 0 & - \\frac{q}{\\left(1 - q\\right)^{2}} & - \\frac{q}{\\left(1 - q\\right)^{2}} & 0 & \\frac{q^{2}}{\\left(1 - q\\right)^{3}}\\\\0 & 0 & \\frac{1}{1 - q} & 0 & - \\frac{q}{\\left(1 - q\\right)^{2}} & 0 & - \\frac{q}{\\left(1 - q\\right)^{2}} & \\frac{q^{2}}{\\left(1 - q\\right)^{3}}\\\\0 & 0 & 0 & \\frac{1}{1 - q} & 0 & - \\frac{q}{\\left(1 - q\\right)^{2}} & - \\frac{q}{\\left(1 - q\\right)^{2}} & \\frac{q^{2}}{\\left(1 - q\\right)^{3}}\\\\0 & 0 & 0 & 0 & \\frac{1}{\\left(1 - q\\right)^{2}} & 0 & 0 & - \\frac{q}{\\left(1 - q\\right)^{3}}\\\\0 & 0 & 0 & 0 & 0 & \\frac{1}{\\left(1 - q\\right)^{2}} & 0 & - \\frac{q}{\\left(1 - q\\right)^{3}}\\\\0 & 0 & 0 & 0 & 0 & 0 & \\frac{1}{\\left(1 - q\\right)^{2}} & - \\frac{q}{\\left(1 - q\\right)^{3}}\\\\0 & 0 & 0 & 0 & 0 & 0 & 0 & \\frac{1}{\\left(1 - q\\right)^{3}}\\end{matrix}\\right]$"
      ],
      "text/plain": [
       "Matrix([\n",
       "[1, -q/(1 - q), -q/(1 - q), -q/(1 - q), q**2/(1 - q)**2, q**2/(1 - q)**2, q**2/(1 - q)**2, -q**3/(1 - q)**3],\n",
       "[0,  1/(1 - q),          0,          0,   -q/(1 - q)**2,   -q/(1 - q)**2,               0,  q**2/(1 - q)**3],\n",
       "[0,          0,  1/(1 - q),          0,   -q/(1 - q)**2,               0,   -q/(1 - q)**2,  q**2/(1 - q)**3],\n",
       "[0,          0,          0,  1/(1 - q),               0,   -q/(1 - q)**2,   -q/(1 - q)**2,  q**2/(1 - q)**3],\n",
       "[0,          0,          0,          0,   (1 - q)**(-2),               0,               0,    -q/(1 - q)**3],\n",
       "[0,          0,          0,          0,               0,   (1 - q)**(-2),               0,    -q/(1 - q)**3],\n",
       "[0,          0,          0,          0,               0,               0,   (1 - q)**(-2),    -q/(1 - q)**3],\n",
       "[0,          0,          0,          0,               0,               0,               0,    (1 - q)**(-3)]])"
      ]
     },
     "execution_count": 22,
     "metadata": {},
     "output_type": "execute_result"
    }
   ],
   "source": [
    "R.inv()"
   ]
  },
  {
   "cell_type": "markdown",
   "metadata": {},
   "source": [
    "Inspect the components of the series $\\sum_{k=0}^n (D^{-1} R_u)^k$. Notice taking each power of $k$ eliminates the columnspace corresponding to indices with weight less than $k$."
   ]
  },
  {
   "cell_type": "code",
   "execution_count": 24,
   "metadata": {},
   "outputs": [
    {
     "data": {
      "text/latex": [
       "$\\displaystyle \\left[\\begin{matrix}1 & 0 & 0 & 0 & 0 & 0 & 0 & 0\\\\0 & \\frac{1}{1 - q} & 0 & 0 & 0 & 0 & 0 & 0\\\\0 & 0 & \\frac{1}{1 - q} & 0 & 0 & 0 & 0 & 0\\\\0 & 0 & 0 & \\frac{1}{1 - q} & 0 & 0 & 0 & 0\\\\0 & 0 & 0 & 0 & \\frac{1}{\\left(1 - q\\right)^{2}} & 0 & 0 & 0\\\\0 & 0 & 0 & 0 & 0 & \\frac{1}{\\left(1 - q\\right)^{2}} & 0 & 0\\\\0 & 0 & 0 & 0 & 0 & 0 & \\frac{1}{\\left(1 - q\\right)^{2}} & 0\\\\0 & 0 & 0 & 0 & 0 & 0 & 0 & \\frac{1}{\\left(1 - q\\right)^{3}}\\end{matrix}\\right]$"
      ],
      "text/plain": [
       "Matrix([\n",
       "[1,         0,         0,         0,             0,             0,             0,             0],\n",
       "[0, 1/(1 - q),         0,         0,             0,             0,             0,             0],\n",
       "[0,         0, 1/(1 - q),         0,             0,             0,             0,             0],\n",
       "[0,         0,         0, 1/(1 - q),             0,             0,             0,             0],\n",
       "[0,         0,         0,         0, (1 - q)**(-2),             0,             0,             0],\n",
       "[0,         0,         0,         0,             0, (1 - q)**(-2),             0,             0],\n",
       "[0,         0,         0,         0,             0,             0, (1 - q)**(-2),             0],\n",
       "[0,         0,         0,         0,             0,             0,             0, (1 - q)**(-3)]])"
      ]
     },
     "metadata": {},
     "output_type": "display_data"
    },
    {
     "data": {
      "text/latex": [
       "$\\displaystyle \\left[\\begin{matrix}0 & - \\frac{q}{1 - q} & - \\frac{q}{1 - q} & - \\frac{q}{1 - q} & - \\frac{q^{2}}{\\left(1 - q\\right)^{2}} & - \\frac{q^{2}}{\\left(1 - q\\right)^{2}} & - \\frac{q^{2}}{\\left(1 - q\\right)^{2}} & - \\frac{q^{3}}{\\left(1 - q\\right)^{3}}\\\\0 & 0 & 0 & 0 & - \\frac{q}{\\left(1 - q\\right)^{2}} & - \\frac{q}{\\left(1 - q\\right)^{2}} & 0 & - \\frac{q^{2}}{\\left(1 - q\\right)^{3}}\\\\0 & 0 & 0 & 0 & - \\frac{q}{\\left(1 - q\\right)^{2}} & 0 & - \\frac{q}{\\left(1 - q\\right)^{2}} & - \\frac{q^{2}}{\\left(1 - q\\right)^{3}}\\\\0 & 0 & 0 & 0 & 0 & - \\frac{q}{\\left(1 - q\\right)^{2}} & - \\frac{q}{\\left(1 - q\\right)^{2}} & - \\frac{q^{2}}{\\left(1 - q\\right)^{3}}\\\\0 & 0 & 0 & 0 & 0 & 0 & 0 & - \\frac{q}{\\left(1 - q\\right)^{3}}\\\\0 & 0 & 0 & 0 & 0 & 0 & 0 & - \\frac{q}{\\left(1 - q\\right)^{3}}\\\\0 & 0 & 0 & 0 & 0 & 0 & 0 & - \\frac{q}{\\left(1 - q\\right)^{3}}\\\\0 & 0 & 0 & 0 & 0 & 0 & 0 & 0\\end{matrix}\\right]$"
      ],
      "text/plain": [
       "Matrix([\n",
       "[0, -q/(1 - q), -q/(1 - q), -q/(1 - q), -q**2/(1 - q)**2, -q**2/(1 - q)**2, -q**2/(1 - q)**2, -q**3/(1 - q)**3],\n",
       "[0,          0,          0,          0,    -q/(1 - q)**2,    -q/(1 - q)**2,                0, -q**2/(1 - q)**3],\n",
       "[0,          0,          0,          0,    -q/(1 - q)**2,                0,    -q/(1 - q)**2, -q**2/(1 - q)**3],\n",
       "[0,          0,          0,          0,                0,    -q/(1 - q)**2,    -q/(1 - q)**2, -q**2/(1 - q)**3],\n",
       "[0,          0,          0,          0,                0,                0,                0,    -q/(1 - q)**3],\n",
       "[0,          0,          0,          0,                0,                0,                0,    -q/(1 - q)**3],\n",
       "[0,          0,          0,          0,                0,                0,                0,    -q/(1 - q)**3],\n",
       "[0,          0,          0,          0,                0,                0,                0,                0]])"
      ]
     },
     "metadata": {},
     "output_type": "display_data"
    },
    {
     "data": {
      "text/latex": [
       "$\\displaystyle \\left[\\begin{matrix}0 & 0 & 0 & 0 & \\frac{2 q^{2}}{\\left(1 - q\\right)^{2}} & \\frac{2 q^{2}}{\\left(1 - q\\right)^{2}} & \\frac{2 q^{2}}{\\left(1 - q\\right)^{2}} & \\frac{6 q^{3}}{\\left(1 - q\\right)^{3}}\\\\0 & 0 & 0 & 0 & 0 & 0 & 0 & \\frac{2 q^{2}}{\\left(1 - q\\right)^{3}}\\\\0 & 0 & 0 & 0 & 0 & 0 & 0 & \\frac{2 q^{2}}{\\left(1 - q\\right)^{3}}\\\\0 & 0 & 0 & 0 & 0 & 0 & 0 & \\frac{2 q^{2}}{\\left(1 - q\\right)^{3}}\\\\0 & 0 & 0 & 0 & 0 & 0 & 0 & 0\\\\0 & 0 & 0 & 0 & 0 & 0 & 0 & 0\\\\0 & 0 & 0 & 0 & 0 & 0 & 0 & 0\\\\0 & 0 & 0 & 0 & 0 & 0 & 0 & 0\\end{matrix}\\right]$"
      ],
      "text/plain": [
       "Matrix([\n",
       "[0, 0, 0, 0, 2*q**2/(1 - q)**2, 2*q**2/(1 - q)**2, 2*q**2/(1 - q)**2, 6*q**3/(1 - q)**3],\n",
       "[0, 0, 0, 0,                 0,                 0,                 0, 2*q**2/(1 - q)**3],\n",
       "[0, 0, 0, 0,                 0,                 0,                 0, 2*q**2/(1 - q)**3],\n",
       "[0, 0, 0, 0,                 0,                 0,                 0, 2*q**2/(1 - q)**3],\n",
       "[0, 0, 0, 0,                 0,                 0,                 0,                 0],\n",
       "[0, 0, 0, 0,                 0,                 0,                 0,                 0],\n",
       "[0, 0, 0, 0,                 0,                 0,                 0,                 0],\n",
       "[0, 0, 0, 0,                 0,                 0,                 0,                 0]])"
      ]
     },
     "metadata": {},
     "output_type": "display_data"
    },
    {
     "data": {
      "text/latex": [
       "$\\displaystyle \\left[\\begin{matrix}0 & 0 & 0 & 0 & 0 & 0 & 0 & - \\frac{6 q^{3}}{\\left(1 - q\\right)^{3}}\\\\0 & 0 & 0 & 0 & 0 & 0 & 0 & 0\\\\0 & 0 & 0 & 0 & 0 & 0 & 0 & 0\\\\0 & 0 & 0 & 0 & 0 & 0 & 0 & 0\\\\0 & 0 & 0 & 0 & 0 & 0 & 0 & 0\\\\0 & 0 & 0 & 0 & 0 & 0 & 0 & 0\\\\0 & 0 & 0 & 0 & 0 & 0 & 0 & 0\\\\0 & 0 & 0 & 0 & 0 & 0 & 0 & 0\\end{matrix}\\right]$"
      ],
      "text/plain": [
       "Matrix([\n",
       "[0, 0, 0, 0, 0, 0, 0, -6*q**3/(1 - q)**3],\n",
       "[0, 0, 0, 0, 0, 0, 0,                  0],\n",
       "[0, 0, 0, 0, 0, 0, 0,                  0],\n",
       "[0, 0, 0, 0, 0, 0, 0,                  0],\n",
       "[0, 0, 0, 0, 0, 0, 0,                  0],\n",
       "[0, 0, 0, 0, 0, 0, 0,                  0],\n",
       "[0, 0, 0, 0, 0, 0, 0,                  0],\n",
       "[0, 0, 0, 0, 0, 0, 0,                  0]])"
      ]
     },
     "metadata": {},
     "output_type": "display_data"
    }
   ],
   "source": [
    "D = sympy.diag(*np.diag(R))\n",
    "Ru = R - D\n",
    "for k in range(n+1):\n",
    "    display((-1) ** k * (D.inv() *Ru ) ** k * D.inv()) "
   ]
  },
  {
   "cell_type": "markdown",
   "metadata": {},
   "source": [
    "Inspect the inverse of a truncated matrix $(\\pi_wR)^{-1}$. Notice how each of the components of its sum are identical to truncated components of the series expression for the full $R^{-1}$"
   ]
  },
  {
   "cell_type": "code",
   "execution_count": 25,
   "metadata": {},
   "outputs": [],
   "source": [
    "keep_bits = 2\n",
    "t = sum([utils.ncr(n, k) for k in range(keep_bits + 1)])\n",
    "T1 = R.copy()[:t,:t]\n",
    "D1 = sympy.diag(*np.diag(T1))\n",
    "Tu = T1 - D1"
   ]
  },
  {
   "cell_type": "code",
   "execution_count": 26,
   "metadata": {},
   "outputs": [
    {
     "data": {
      "text/latex": [
       "$\\displaystyle \\left[\\begin{matrix}0 & - \\frac{q}{1 - q} & - \\frac{q}{1 - q} & - \\frac{q}{1 - q} & - \\frac{q^{2}}{\\left(1 - q\\right)^{2}} & - \\frac{q^{2}}{\\left(1 - q\\right)^{2}} & - \\frac{q^{2}}{\\left(1 - q\\right)^{2}}\\\\0 & 0 & 0 & 0 & - \\frac{q}{\\left(1 - q\\right)^{2}} & - \\frac{q}{\\left(1 - q\\right)^{2}} & 0\\\\0 & 0 & 0 & 0 & - \\frac{q}{\\left(1 - q\\right)^{2}} & 0 & - \\frac{q}{\\left(1 - q\\right)^{2}}\\\\0 & 0 & 0 & 0 & 0 & - \\frac{q}{\\left(1 - q\\right)^{2}} & - \\frac{q}{\\left(1 - q\\right)^{2}}\\\\0 & 0 & 0 & 0 & 0 & 0 & 0\\\\0 & 0 & 0 & 0 & 0 & 0 & 0\\\\0 & 0 & 0 & 0 & 0 & 0 & 0\\end{matrix}\\right]$"
      ],
      "text/plain": [
       "Matrix([\n",
       "[0, -q/(1 - q), -q/(1 - q), -q/(1 - q), -q**2/(1 - q)**2, -q**2/(1 - q)**2, -q**2/(1 - q)**2],\n",
       "[0,          0,          0,          0,    -q/(1 - q)**2,    -q/(1 - q)**2,                0],\n",
       "[0,          0,          0,          0,    -q/(1 - q)**2,                0,    -q/(1 - q)**2],\n",
       "[0,          0,          0,          0,                0,    -q/(1 - q)**2,    -q/(1 - q)**2],\n",
       "[0,          0,          0,          0,                0,                0,                0],\n",
       "[0,          0,          0,          0,                0,                0,                0],\n",
       "[0,          0,          0,          0,                0,                0,                0]])"
      ]
     },
     "metadata": {},
     "output_type": "display_data"
    },
    {
     "data": {
      "text/latex": [
       "$\\displaystyle \\left[\\begin{matrix}0 & 0 & 0 & 0 & \\frac{2 q^{2}}{\\left(1 - q\\right)^{2}} & \\frac{2 q^{2}}{\\left(1 - q\\right)^{2}} & \\frac{2 q^{2}}{\\left(1 - q\\right)^{2}}\\\\0 & 0 & 0 & 0 & 0 & 0 & 0\\\\0 & 0 & 0 & 0 & 0 & 0 & 0\\\\0 & 0 & 0 & 0 & 0 & 0 & 0\\\\0 & 0 & 0 & 0 & 0 & 0 & 0\\\\0 & 0 & 0 & 0 & 0 & 0 & 0\\\\0 & 0 & 0 & 0 & 0 & 0 & 0\\end{matrix}\\right]$"
      ],
      "text/plain": [
       "Matrix([\n",
       "[0, 0, 0, 0, 2*q**2/(1 - q)**2, 2*q**2/(1 - q)**2, 2*q**2/(1 - q)**2],\n",
       "[0, 0, 0, 0,                 0,                 0,                 0],\n",
       "[0, 0, 0, 0,                 0,                 0,                 0],\n",
       "[0, 0, 0, 0,                 0,                 0,                 0],\n",
       "[0, 0, 0, 0,                 0,                 0,                 0],\n",
       "[0, 0, 0, 0,                 0,                 0,                 0],\n",
       "[0, 0, 0, 0,                 0,                 0,                 0]])"
      ]
     },
     "metadata": {},
     "output_type": "display_data"
    }
   ],
   "source": [
    "for k in range(1, keep_bits + 1):\n",
    "    display(( (-1) ** k * D1.inv() * Tu) ** k * D1.inv())"
   ]
  },
  {
   "cell_type": "markdown",
   "metadata": {},
   "source": [
    "### Does further reduction in $R$ work?\n",
    "\n",
    "One might be tempted to eliminate even more entries of $R$, for instance just keeping the elements describing transitions into/out of $0$ (along with diagonal elements. However such a modification does not actually work. For instance:"
   ]
  },
  {
   "cell_type": "code",
   "execution_count": 29,
   "metadata": {},
   "outputs": [],
   "source": [
    "def f(i, j):\n",
    "    if i == 0 or j == 0 or i == j:\n",
    "        return R[i,j]\n",
    "    else:\n",
    "        return 0\n",
    "R_mod = sympy.Matrix(2**n, 2**n, f)"
   ]
  },
  {
   "cell_type": "code",
   "execution_count": 30,
   "metadata": {},
   "outputs": [
    {
     "data": {
      "text/latex": [
       "$\\displaystyle \\left[\\begin{matrix}1 & q & q & q & q^{2} & q^{2} & q^{2} & q^{3}\\\\0 & 1 - q & 0 & 0 & 0 & 0 & 0 & 0\\\\0 & 0 & 1 - q & 0 & 0 & 0 & 0 & 0\\\\0 & 0 & 0 & 1 - q & 0 & 0 & 0 & 0\\\\0 & 0 & 0 & 0 & \\left(1 - q\\right)^{2} & 0 & 0 & 0\\\\0 & 0 & 0 & 0 & 0 & \\left(1 - q\\right)^{2} & 0 & 0\\\\0 & 0 & 0 & 0 & 0 & 0 & \\left(1 - q\\right)^{2} & 0\\\\0 & 0 & 0 & 0 & 0 & 0 & 0 & \\left(1 - q\\right)^{3}\\end{matrix}\\right]$"
      ],
      "text/plain": [
       "Matrix([\n",
       "[1,     q,     q,     q,       q**2,       q**2,       q**2,       q**3],\n",
       "[0, 1 - q,     0,     0,          0,          0,          0,          0],\n",
       "[0,     0, 1 - q,     0,          0,          0,          0,          0],\n",
       "[0,     0,     0, 1 - q,          0,          0,          0,          0],\n",
       "[0,     0,     0,     0, (1 - q)**2,          0,          0,          0],\n",
       "[0,     0,     0,     0,          0, (1 - q)**2,          0,          0],\n",
       "[0,     0,     0,     0,          0,          0, (1 - q)**2,          0],\n",
       "[0,     0,     0,     0,          0,          0,          0, (1 - q)**3]])"
      ]
     },
     "execution_count": 30,
     "metadata": {},
     "output_type": "execute_result"
    }
   ],
   "source": [
    "R_mod"
   ]
  },
  {
   "cell_type": "code",
   "execution_count": 32,
   "metadata": {},
   "outputs": [
    {
     "data": {
      "text/latex": [
       "$\\displaystyle \\left[\\begin{matrix}1 & - \\frac{q}{1 - q} & - \\frac{q}{1 - q} & - \\frac{q}{1 - q} & - \\frac{q^{2}}{\\left(1 - q\\right)^{2}} & - \\frac{q^{2}}{\\left(1 - q\\right)^{2}} & - \\frac{q^{2}}{\\left(1 - q\\right)^{2}} & - \\frac{q^{3}}{\\left(1 - q\\right)^{3}}\\\\0 & \\frac{1}{1 - q} & 0 & 0 & 0 & 0 & 0 & 0\\\\0 & 0 & \\frac{1}{1 - q} & 0 & 0 & 0 & 0 & 0\\\\0 & 0 & 0 & \\frac{1}{1 - q} & 0 & 0 & 0 & 0\\\\0 & 0 & 0 & 0 & \\frac{1}{\\left(1 - q\\right)^{2}} & 0 & 0 & 0\\\\0 & 0 & 0 & 0 & 0 & \\frac{1}{\\left(1 - q\\right)^{2}} & 0 & 0\\\\0 & 0 & 0 & 0 & 0 & 0 & \\frac{1}{\\left(1 - q\\right)^{2}} & 0\\\\0 & 0 & 0 & 0 & 0 & 0 & 0 & \\frac{1}{\\left(1 - q\\right)^{3}}\\end{matrix}\\right]$"
      ],
      "text/plain": [
       "Matrix([\n",
       "[1, -q/(1 - q), -q/(1 - q), -q/(1 - q), -q**2/(1 - q)**2, -q**2/(1 - q)**2, -q**2/(1 - q)**2, -q**3/(1 - q)**3],\n",
       "[0,  1/(1 - q),          0,          0,                0,                0,                0,                0],\n",
       "[0,          0,  1/(1 - q),          0,                0,                0,                0,                0],\n",
       "[0,          0,          0,  1/(1 - q),                0,                0,                0,                0],\n",
       "[0,          0,          0,          0,    (1 - q)**(-2),                0,                0,                0],\n",
       "[0,          0,          0,          0,                0,    (1 - q)**(-2),                0,                0],\n",
       "[0,          0,          0,          0,                0,                0,    (1 - q)**(-2),                0],\n",
       "[0,          0,          0,          0,                0,                0,                0,    (1 - q)**(-3)]])"
      ]
     },
     "execution_count": 32,
     "metadata": {},
     "output_type": "execute_result"
    }
   ],
   "source": [
    "R_mod.inv()"
   ]
  },
  {
   "cell_type": "markdown",
   "metadata": {},
   "source": [
    "This modification to $R$ only considers reducing $p_0'$ by the population of each $p_k'$ ($k\\neq 0$) without considering that those populations also need to be reduced by dynamics between bitstrings $k, j \\forall k,j\\neq0$ "
   ]
  },
  {
   "cell_type": "code",
   "execution_count": 31,
   "metadata": {},
   "outputs": [
    {
     "data": {
      "text/latex": [
       "$\\displaystyle \\left[\\begin{matrix}1 & 0 & 0 & 0 & 0 & 0 & 0 & 0\\\\0 & \\frac{1}{1 - q} & 0 & 0 & 0 & 0 & 0 & 0\\\\0 & 0 & \\frac{1}{1 - q} & 0 & 0 & 0 & 0 & 0\\\\0 & 0 & 0 & \\frac{1}{1 - q} & 0 & 0 & 0 & 0\\\\0 & 0 & 0 & 0 & \\frac{1}{\\left(1 - q\\right)^{2}} & 0 & 0 & 0\\\\0 & 0 & 0 & 0 & 0 & \\frac{1}{\\left(1 - q\\right)^{2}} & 0 & 0\\\\0 & 0 & 0 & 0 & 0 & 0 & \\frac{1}{\\left(1 - q\\right)^{2}} & 0\\\\0 & 0 & 0 & 0 & 0 & 0 & 0 & \\frac{1}{\\left(1 - q\\right)^{3}}\\end{matrix}\\right]$"
      ],
      "text/plain": [
       "Matrix([\n",
       "[1,         0,         0,         0,             0,             0,             0,             0],\n",
       "[0, 1/(1 - q),         0,         0,             0,             0,             0,             0],\n",
       "[0,         0, 1/(1 - q),         0,             0,             0,             0,             0],\n",
       "[0,         0,         0, 1/(1 - q),             0,             0,             0,             0],\n",
       "[0,         0,         0,         0, (1 - q)**(-2),             0,             0,             0],\n",
       "[0,         0,         0,         0,             0, (1 - q)**(-2),             0,             0],\n",
       "[0,         0,         0,         0,             0,             0, (1 - q)**(-2),             0],\n",
       "[0,         0,         0,         0,             0,             0,             0, (1 - q)**(-3)]])"
      ]
     },
     "metadata": {},
     "output_type": "display_data"
    },
    {
     "data": {
      "text/latex": [
       "$\\displaystyle \\left[\\begin{matrix}0 & - \\frac{q}{1 - q} & - \\frac{q}{1 - q} & - \\frac{q}{1 - q} & - \\frac{q^{2}}{\\left(1 - q\\right)^{2}} & - \\frac{q^{2}}{\\left(1 - q\\right)^{2}} & - \\frac{q^{2}}{\\left(1 - q\\right)^{2}} & - \\frac{q^{3}}{\\left(1 - q\\right)^{3}}\\\\0 & 0 & 0 & 0 & 0 & 0 & 0 & 0\\\\0 & 0 & 0 & 0 & 0 & 0 & 0 & 0\\\\0 & 0 & 0 & 0 & 0 & 0 & 0 & 0\\\\0 & 0 & 0 & 0 & 0 & 0 & 0 & 0\\\\0 & 0 & 0 & 0 & 0 & 0 & 0 & 0\\\\0 & 0 & 0 & 0 & 0 & 0 & 0 & 0\\\\0 & 0 & 0 & 0 & 0 & 0 & 0 & 0\\end{matrix}\\right]$"
      ],
      "text/plain": [
       "Matrix([\n",
       "[0, -q/(1 - q), -q/(1 - q), -q/(1 - q), -q**2/(1 - q)**2, -q**2/(1 - q)**2, -q**2/(1 - q)**2, -q**3/(1 - q)**3],\n",
       "[0,          0,          0,          0,                0,                0,                0,                0],\n",
       "[0,          0,          0,          0,                0,                0,                0,                0],\n",
       "[0,          0,          0,          0,                0,                0,                0,                0],\n",
       "[0,          0,          0,          0,                0,                0,                0,                0],\n",
       "[0,          0,          0,          0,                0,                0,                0,                0],\n",
       "[0,          0,          0,          0,                0,                0,                0,                0],\n",
       "[0,          0,          0,          0,                0,                0,                0,                0]])"
      ]
     },
     "metadata": {},
     "output_type": "display_data"
    },
    {
     "data": {
      "text/latex": [
       "$\\displaystyle \\left[\\begin{matrix}0 & 0 & 0 & 0 & 0 & 0 & 0 & 0\\\\0 & 0 & 0 & 0 & 0 & 0 & 0 & 0\\\\0 & 0 & 0 & 0 & 0 & 0 & 0 & 0\\\\0 & 0 & 0 & 0 & 0 & 0 & 0 & 0\\\\0 & 0 & 0 & 0 & 0 & 0 & 0 & 0\\\\0 & 0 & 0 & 0 & 0 & 0 & 0 & 0\\\\0 & 0 & 0 & 0 & 0 & 0 & 0 & 0\\\\0 & 0 & 0 & 0 & 0 & 0 & 0 & 0\\end{matrix}\\right]$"
      ],
      "text/plain": [
       "Matrix([\n",
       "[0, 0, 0, 0, 0, 0, 0, 0],\n",
       "[0, 0, 0, 0, 0, 0, 0, 0],\n",
       "[0, 0, 0, 0, 0, 0, 0, 0],\n",
       "[0, 0, 0, 0, 0, 0, 0, 0],\n",
       "[0, 0, 0, 0, 0, 0, 0, 0],\n",
       "[0, 0, 0, 0, 0, 0, 0, 0],\n",
       "[0, 0, 0, 0, 0, 0, 0, 0],\n",
       "[0, 0, 0, 0, 0, 0, 0, 0]])"
      ]
     },
     "metadata": {},
     "output_type": "display_data"
    },
    {
     "data": {
      "text/latex": [
       "$\\displaystyle \\left[\\begin{matrix}0 & 0 & 0 & 0 & 0 & 0 & 0 & 0\\\\0 & 0 & 0 & 0 & 0 & 0 & 0 & 0\\\\0 & 0 & 0 & 0 & 0 & 0 & 0 & 0\\\\0 & 0 & 0 & 0 & 0 & 0 & 0 & 0\\\\0 & 0 & 0 & 0 & 0 & 0 & 0 & 0\\\\0 & 0 & 0 & 0 & 0 & 0 & 0 & 0\\\\0 & 0 & 0 & 0 & 0 & 0 & 0 & 0\\\\0 & 0 & 0 & 0 & 0 & 0 & 0 & 0\\end{matrix}\\right]$"
      ],
      "text/plain": [
       "Matrix([\n",
       "[0, 0, 0, 0, 0, 0, 0, 0],\n",
       "[0, 0, 0, 0, 0, 0, 0, 0],\n",
       "[0, 0, 0, 0, 0, 0, 0, 0],\n",
       "[0, 0, 0, 0, 0, 0, 0, 0],\n",
       "[0, 0, 0, 0, 0, 0, 0, 0],\n",
       "[0, 0, 0, 0, 0, 0, 0, 0],\n",
       "[0, 0, 0, 0, 0, 0, 0, 0],\n",
       "[0, 0, 0, 0, 0, 0, 0, 0]])"
      ]
     },
     "metadata": {},
     "output_type": "display_data"
    }
   ],
   "source": [
    "D = sympy.diag(*np.diag(R_mod))\n",
    "Ru = R_mod - D\n",
    "for k in range(n+1):\n",
    "    display((-1) ** k * (D.inv() *Ru ) ** k * D.inv())"
   ]
  },
  {
   "cell_type": "markdown",
   "metadata": {},
   "source": [
    "This results in a poor approximation to $\\pi_wR^{-1}\\pi_w$"
   ]
  },
  {
   "cell_type": "code",
   "execution_count": null,
   "metadata": {},
   "outputs": [],
   "source": []
  }
 ],
 "metadata": {
  "kernelspec": {
   "display_name": "Python 3",
   "language": "python",
   "name": "python3"
  },
  "language_info": {
   "codemirror_mode": {
    "name": "ipython",
    "version": 3
   },
   "file_extension": ".py",
   "mimetype": "text/x-python",
   "name": "python",
   "nbconvert_exporter": "python",
   "pygments_lexer": "ipython3",
   "version": "3.6.9"
  }
 },
 "nbformat": 4,
 "nbformat_minor": 2
}
