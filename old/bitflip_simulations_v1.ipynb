{
 "cells": [
  {
   "cell_type": "code",
   "execution_count": 44,
   "metadata": {},
   "outputs": [],
   "source": [
    "import numpy as np\n",
    "import matplotlib.pyplot as plt"
   ]
  },
  {
   "cell_type": "markdown",
   "metadata": {},
   "source": [
    "## Messing around with likelihood of influx\n",
    "\n",
    "Influx event defined as drawing $x^n \\sim X^n$ AND $b^n \\sim B^n$ such that $x^n = b^n$"
   ]
  },
  {
   "cell_type": "code",
   "execution_count": 7,
   "metadata": {},
   "outputs": [],
   "source": [
    "def Bernoulli(q, size=1):\n",
    "    return np.random.binomial(1, q, size=size)\n",
    "\n",
    "def PBD(q_vals, size=1):\n",
    "    \"\"\"Sample from a Poisson Binomial Distribution parameterized on (q_1, ..., q_n).\n",
    "    \n",
    "    Returns:\n",
    "        (size, n) array of binary values\n",
    "    \"\"\"\n",
    "    out = np.zeros((size, len(q_vals)))\n",
    "    for j, q in enumerate(q_vals):\n",
    "        out[:,j] = Bernoulli(q, size=size)\n",
    "    return out\n",
    "    "
   ]
  },
  {
   "cell_type": "code",
   "execution_count": 6,
   "metadata": {},
   "outputs": [
    {
     "data": {
      "text/plain": [
       "array([1, 0, 0, 1, 0, 1, 1, 0, 0, 1])"
      ]
     },
     "execution_count": 6,
     "metadata": {},
     "output_type": "execute_result"
    }
   ],
   "source": [
    "Bernoulli(.4, size=10)"
   ]
  },
  {
   "cell_type": "code",
   "execution_count": 8,
   "metadata": {},
   "outputs": [
    {
     "data": {
      "text/plain": [
       "array([[0., 0., 0.],\n",
       "       [0., 0., 0.],\n",
       "       [0., 0., 0.],\n",
       "       [0., 0., 0.],\n",
       "       [1., 0., 0.],\n",
       "       [1., 0., 0.],\n",
       "       [1., 0., 0.],\n",
       "       [0., 0., 0.],\n",
       "       [0., 0., 0.],\n",
       "       [0., 0., 0.]])"
      ]
     },
     "execution_count": 8,
     "metadata": {},
     "output_type": "execute_result"
    }
   ],
   "source": [
    "PBD([.2, .03, .06], size=10)"
   ]
  },
  {
   "cell_type": "markdown",
   "metadata": {},
   "source": [
    "### First: $P_{X_1 \\dots X_n}$ is the uniform distrubtion except for P(0...0)"
   ]
  },
  {
   "cell_type": "code",
   "execution_count": 82,
   "metadata": {},
   "outputs": [],
   "source": [
    "def zero_biased_uniform(n, p0, rows):\n",
    "    \"\"\"Sample from the distribution with P(0) = p0 and P(x != 0) = (1 - p0) / (2^n - 1)\"\"\"\n",
    "#     out = np.random.randint(2, size=(rows, n))\n",
    "    out = np.zeros((rows, n))\n",
    "    for trial in range(rows):\n",
    "        branch = np.random.rand(1)\n",
    "        if branch > p0:\n",
    "            new_row = np.random.randint(2, size=n)\n",
    "            while sum(new_row) == 0:\n",
    "                new_row = np.random.randint(2, size=n)\n",
    "            out[trial, :] = new_row\n",
    "        else:\n",
    "            out[trial, :] = 0\n",
    "            \n",
    "    return out\n",
    "\n",
    "ndraws = 10000\n",
    "p_0 = .3\n",
    "\n",
    "influx_fractions = []\n",
    "outflux_fractions = []\n",
    "zero_fractions = []\n",
    "zero_prime_fractions = []\n",
    "\n",
    "nmax = 20\n",
    "system_sizes = np.arange(2, nmax)\n",
    "# Set up a pre-determined set of bitflip probabilities so that this doesn't \n",
    "# affect the concentration of outflo\n",
    "all_qvals = np.random.rand(nmax) * 0.10 # Uniform(0, 0.10)\n",
    "\n",
    "for n in system_sizes:\n",
    "#     zero_cts = int(p_0 * ndraws)\n",
    "#     p0_vals = np.zeros((zero_cts, n))\n",
    "#     other_vals = \n",
    "    Xvals = zero_biased_uniform(n, p_0, ndraws)\n",
    "    \n",
    "    # simulate bitflips\n",
    "    qvals = all_qvals[:n]\n",
    "    Bvals = PBD(qvals, size=ndraws)\n",
    "    \n",
    "    # Compute the original counts of 0...0\n",
    "    locs_allzero = np.where(np.sum(Xvals, axis=1) == 0)[0]\n",
    "    zero_counts = len(locs_allzero)\n",
    "    zero_fractions.append(zero_counts )\n",
    "    \n",
    "    # Compute the counts of 0...0 after bitflips are applied  \n",
    "    X_prime = (Xvals + Bvals) % 2 # simulates 'bitflips'\n",
    "    zero_prime_counts = len(np.where(np.sum(X_prime, axis=1) == 0)[0])\n",
    "    zero_prime_fractions.append(zero_prime_counts)\n",
    "    \n",
    "    # Compute the number of counts for which an all-zeros string was LOST due to outflux\n",
    "    z_masked_B = Bvals[locs_allzero, :]\n",
    "    outflux = len(np.where(np.sum(z_masked_B, axis=1) != 0)[0])\n",
    "    outflux_fractions.append(outflux)\n",
    "    \n",
    "    # Compute the number of counts for which (b^n = x^n) AND (x^n != 0) which determines influx\n",
    "    locs_nonzero = np.where(np.sum(Xvals, axis=1) != 0)[0]\n",
    "    nz_masked_X = Xvals[locs_nonzero, :]\n",
    "    nz_masked_B = Bvals[locs_nonzero, :]\n",
    "    into_zero = (nz_masked_X + nz_masked_B) % 2 # all bitflips in the nonzero space\n",
    "\n",
    "    influx = len(np.where(np.sum(into_zero, axis=1) == 0)[0])\n",
    "    influx_fractions.append(influx)\n"
   ]
  },
  {
   "cell_type": "code",
   "execution_count": 83,
   "metadata": {},
   "outputs": [
    {
     "name": "stdout",
     "output_type": "stream",
     "text": [
      "[2957, 3057, 3035, 2984, 3008, 3015, 2985, 3002, 2919, 2934, 3022, 3028, 3016, 2959, 2988, 3002, 3072, 3009]\n"
     ]
    }
   ],
   "source": [
    "print(zero_fractions)"
   ]
  },
  {
   "cell_type": "code",
   "execution_count": 84,
   "metadata": {},
   "outputs": [
    {
     "data": {
      "text/plain": [
       "[<matplotlib.lines.Line2D at 0x7f86de6976d8>]"
      ]
     },
     "execution_count": 84,
     "metadata": {},
     "output_type": "execute_result"
    },
    {
     "data": {
      "image/png": "[encoded data removed]",
      "text/plain": [
       "<Figure size 432x288 with 2 Axes>"
      ]
     },
     "metadata": {
      "needs_background": "light"
     },
     "output_type": "display_data"
    }
   ],
   "source": [
    "fig, axes = plt.subplots(1, 2)\n",
    "axes[0].scatter(system_sizes, influx_fractions, label=\"influx\")\n",
    "axes[0].scatter(system_sizes, outflux_fractions, label=\"outflux\")\n",
    "axes[0].legend()\n",
    "\n",
    "axes[1].scatter(zero_fractions, zero_prime_fractions)\n",
    "axes[1].plot(range(ndraws), range(ndraws), ls='--', c='k')\n",
    "# axes[1].scatter()"
   ]
  },
  {
   "cell_type": "code",
   "execution_count": 40,
   "metadata": {},
   "outputs": [
    {
     "name": "stdout",
     "output_type": "stream",
     "text": [
      "[[0 0 1 1 1]\n",
      " [1 0 1 1 1]\n",
      " [0 0 0 1 0]\n",
      " ...\n",
      " [1 1 1 1 0]\n",
      " [1 1 1 1 1]\n",
      " [1 0 0 1 1]]\n",
      "[[0. 0. 1. 0. 0.]\n",
      " [0. 0. 0. 0. 0.]\n",
      " [0. 0. 0. 0. 0.]\n",
      " ...\n",
      " [0. 0. 0. 0. 0.]\n",
      " [0. 0. 0. 0. 0.]\n",
      " [0. 0. 0. 0. 0.]]\n",
      "[[0. 0. 0. 1. 1.]\n",
      " [1. 0. 1. 1. 1.]\n",
      " [0. 0. 0. 1. 0.]\n",
      " ...\n",
      " [1. 1. 1. 1. 0.]\n",
      " [1. 1. 1. 1. 1.]\n",
      " [1. 0. 0. 1. 1.]]\n"
     ]
    }
   ],
   "source": [
    "print(Xvals)\n",
    "print(Bvals)\n",
    "print(same_mask)"
   ]
  },
  {
   "cell_type": "code",
   "execution_count": 41,
   "metadata": {},
   "outputs": [
    {
     "name": "stdout",
     "output_type": "stream",
     "text": [
      "126\n"
     ]
    }
   ],
   "source": [
    "locs_same\n",
    "print(influx)"
   ]
  },
  {
   "cell_type": "code",
   "execution_count": 33,
   "metadata": {},
   "outputs": [
    {
     "data": {
      "text/plain": [
       "array([0, 0, 1, 0, 0])"
      ]
     },
     "execution_count": 33,
     "metadata": {},
     "output_type": "execute_result"
    }
   ],
   "source": [
    "Xvals[22]"
   ]
  },
  {
   "cell_type": "code",
   "execution_count": 34,
   "metadata": {},
   "outputs": [
    {
     "data": {
      "text/plain": [
       "array([0., 0., 1., 0., 0.])"
      ]
     },
     "execution_count": 34,
     "metadata": {},
     "output_type": "execute_result"
    }
   ],
   "source": [
    "Bvals[22]"
   ]
  },
  {
   "cell_type": "code",
   "execution_count": 35,
   "metadata": {},
   "outputs": [
    {
     "data": {
      "text/plain": [
       "(array([  22,   78,   85,   92,   94,  162,  242,  366,  385,  474,  547,\n",
       "         553,  580,  661,  686,  697,  775,  784,  793,  961,  968, 1013,\n",
       "        1024, 1070, 1095, 1110, 1196, 1208, 1224, 1256, 1304, 1310, 1338,\n",
       "        1343, 1345, 1346, 1357, 1403, 1462, 1497, 1504, 1540, 1566, 1634,\n",
       "        1675, 1721, 1798, 1815, 1828, 1857, 1866, 1868, 1926, 1927, 1947,\n",
       "        2105, 2132, 2180, 2205, 2209, 2265, 2301, 2303, 2306, 2313, 2392,\n",
       "        2477, 2541, 2577, 2579, 2944, 2983, 2990, 3012, 3022, 3036, 3041,\n",
       "        3099, 3375, 3406, 3436, 3535, 3541, 3589, 3609, 3623, 3691, 3725,\n",
       "        3779, 3832, 3875, 3957, 4003, 4007, 4014, 4023, 4052, 4061, 4213,\n",
       "        4266, 4277, 4292, 4329, 4332, 4363, 4428, 4472, 4476, 4477, 4492,\n",
       "        4532, 4549, 4580, 4664, 4684, 4686, 4693, 4697, 4700, 4703, 4708,\n",
       "        4731, 4773, 4846, 4894, 4902]),)"
      ]
     },
     "execution_count": 35,
     "metadata": {},
     "output_type": "execute_result"
    }
   ],
   "source": [
    "locs_same"
   ]
  },
  {
   "cell_type": "code",
   "execution_count": null,
   "metadata": {},
   "outputs": [],
   "source": [
    "np.random"
   ]
  }
 ],
 "metadata": {
  "kernelspec": {
   "display_name": "Python 3",
   "language": "python",
   "name": "python3"
  },
  "language_info": {
   "codemirror_mode": {
    "name": "ipython",
    "version": 3
   },
   "file_extension": ".py",
   "mimetype": "text/x-python",
   "name": "python",
   "nbconvert_exporter": "python",
   "pygments_lexer": "ipython3",
   "version": "3.6.9"
  }
 },
 "nbformat": 4,
 "nbformat_minor": 2
}
