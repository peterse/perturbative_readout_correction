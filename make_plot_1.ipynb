{
 "cells": [
  {
   "cell_type": "markdown",
   "metadata": {},
   "source": [
    "## Figure 1: Performance of the $p_0$ perturbative algorithm\n"
   ]
  },
  {
   "cell_type": "code",
   "execution_count": 1,
   "metadata": {},
   "outputs": [],
   "source": [
    "import numpy as np\n",
    "import matplotlib.pyplot as plt\n",
    "import scipy\n",
    "\n",
    "import utils\n",
    "import response_matrix"
   ]
  },
  {
   "cell_type": "code",
   "execution_count": 41,
   "metadata": {},
   "outputs": [],
   "source": [
    "# For the distribution, I'm going to use a normal distribution centered at 0000 in the permuted space\n",
    "# i.e. treat x-values as int_n's that overflow 2^n - 1 -> 0\n",
    "\n",
    "n = 5\n",
    "def gaussian(x, x0, sigma):\n",
    "    return np.exp(-(x - x0)**2 / (2 * sigma**2)) / (np.sqrt(2 * np.pi) * sigma)\n",
    "\n",
    "def permuted_nbit_guassian(j, n, sigma):\n",
    "    \"\"\"Compute the gaussian centered at n//2 on a bit value `j` that has been shifted by n//2.\n",
    "    \n",
    "    This has the effect of centering the gaussian on `0` but maintaining tails symmetrically around\n",
    "    `000` in both the high- and low-weight subspaces.\n",
    "    \"\"\"\n",
    "    halfpoint = 1 << (n - 1)\n",
    "    fullrange = 1 << n\n",
    "    x = ((j + (halfpoint)) % fullrange) / fullrange\n",
    "    x0 = halfpoint / fullrange\n",
    "    return gaussian(x, x0, sigma)/ (1 << n)\n",
    "    \n",
    "    \n",
    "def nbit_guassian(j, n, sigma):\n",
    "    \"\"\"Compute the asymmetric gaussian centered at 0.\n",
    "    \"\"\"\n",
    "    fullrange = 1 << n\n",
    "    x = j / fullrange\n",
    "    x0 = 0\n",
    "    return gaussian(x, x0, sigma)/ (1 << n)\n",
    "    \n",
    "# permuted_nbit_guassian(0, 4, .25)\n",
    "\n",
    "# gaussian(0, 0, .25)"
   ]
  },
  {
   "cell_type": "code",
   "execution_count": 25,
   "metadata": {},
   "outputs": [
    {
     "data": {
      "text/plain": [
       "[<matplotlib.lines.Line2D at 0x7fb4c3a21e48>]"
      ]
     },
     "execution_count": 25,
     "metadata": {},
     "output_type": "execute_result"
    },
    {
     "data": {
      "image/png": "[encoded data removed]",
      "text/plain": [
       "<Figure size 432x288 with 1 Axes>"
      ]
     },
     "metadata": {
      "needs_background": "light"
     },
     "output_type": "display_data"
    }
   ],
   "source": [
    "x = np.arange(1 << n)\n",
    "p0 = permuted_nbit_guassian(x, n, .15) \n",
    "plt.plot(x, p0)"
   ]
  },
  {
   "cell_type": "code",
   "execution_count": 40,
   "metadata": {},
   "outputs": [
    {
     "data": {
      "text/plain": [
       "[<matplotlib.lines.Line2D at 0x7fb4c3f6ccf8>]"
      ]
     },
     "execution_count": 40,
     "metadata": {},
     "output_type": "execute_result"
    },
    {
     "data": {
      "image/png": "[encoded data removed]",
      "text/plain": [
       "<Figure size 432x288 with 1 Axes>"
      ]
     },
     "metadata": {
      "needs_background": "light"
     },
     "output_type": "display_data"
    }
   ],
   "source": [
    "x = np.arange(1 << n)\n",
    "p0 = nbit_guassian(x, n, .25) / (1 << n)\n",
    "plt.plot(x, p0)"
   ]
  },
  {
   "cell_type": "markdown",
   "metadata": {},
   "source": [
    "### Compute the corrected prob distribution using Algorithm 1"
   ]
  },
  {
   "cell_type": "markdown",
   "metadata": {},
   "source": [
    "### Construct test R\n",
    "\n",
    "We enforce that $R$ has a tensor structure so that multi-flip events are necessarily exponentially suppressed in weight change of bitstring."
   ]
  },
  {
   "cell_type": "code",
   "execution_count": 28,
   "metadata": {},
   "outputs": [],
   "source": [
    "\n",
    "q01_arr = np.asarray([0.09, .07, 0.12, 0.08, 0.11, 0.06, 0.07, 0.11, 0.05, 0.08])\n",
    "q10_arr = np.asarray([0.04, .03, .05, 0.04, 0.03, .05, .04, 0.06, 0.05, 0.03])\n",
    "wvals = [1, 2, 3, 4]\n",
    "nqubits_lst = [4, 6, 8, 10]\n",
    "R = response_matrix.Rmatrix(q01_arr, q10_arr)\n",
    "Rinv = np.linalg.inv(R)"
   ]
  },
  {
   "cell_type": "markdown",
   "metadata": {},
   "source": [
    "## Compute two different corrections"
   ]
  },
  {
   "cell_type": "code",
   "execution_count": 47,
   "metadata": {},
   "outputs": [],
   "source": [
    "# comparison = lambda x,y: scipy.stats.entropy(x,y)\n",
    "def rel_err(x, y): return abs(x - y) / x # x is 'truth'\n",
    "def abs_err(x, y): return abs(x - y)\n",
    "comparison = rel_err\n",
    "\n",
    "# Outcomes for correcting p0\n",
    "p0_baseline = np.zeros(len(nqubits_lst))\n",
    "p0_outcomes = np.zeros((len(wvals), len(nqubits_lst))) # rows correspond to w=1,2...\n",
    "\n",
    "for j, n_qubits in enumerate(nqubits_lst):\n",
    "    # Generate response matrix and artificial readout error\n",
    "    R = response_matrix.Rmatrix(q01_arr[:n_qubits], q10_arr[:n_qubits])\n",
    "    Rinv = np.linalg.inv(R)\n",
    "    x = np.arange(1 << n_qubits)\n",
    "#     p_true = permuted_nbit_guassian(x, n_qubits, .15)\n",
    "    p_true = nbit_guassian(x, n_qubits, .25)\n",
    "    p_prime = R @ p_true\n",
    "    \n",
    "    # Just p0 correction\n",
    "    p0_baseline[j] = comparison(p_true[0], p_prime[0])\n",
    "    for k, w in enumerate(wvals):\n",
    "        p0_corr = response_matrix.invert_p0_truncated(R, p_prime, w=w)\n",
    "        p0_outcomes[k,j] = abs(p_true[0] - p0_corr)\n",
    "    "
   ]
  },
  {
   "cell_type": "markdown",
   "metadata": {},
   "source": [
    "## Compute correction on just $p_0$"
   ]
  },
  {
   "cell_type": "code",
   "execution_count": 52,
   "metadata": {},
   "outputs": [
    {
     "name": "stderr",
     "output_type": "stream",
     "text": [
      "/home/forky40/.local/lib/python3.6/site-packages/ipykernel_launcher.py:17: UserWarning: Attempted to set non-positive bottom ylim on a log-scaled axis.\n",
      "Invalid limit will be ignored.\n"
     ]
    },
    {
     "name": "stdout",
     "output_type": "stream",
     "text": [
      "[[1.52182547e-03 1.78568695e-03 1.21422814e-03 5.28413852e-04]\n",
      " [1.91194765e-05 1.10707929e-04 1.49360927e-04 9.13252404e-05]\n",
      " [6.27756150e-09 2.90939988e-06 1.01210155e-05 9.53397642e-06]\n",
      " [0.00000000e+00 2.37797912e-08 3.76674724e-07 6.29423690e-07]]\n"
     ]
    },
    {
     "data": {
      "image/png": "[encoded data removed]",
      "text/plain": [
       "<Figure size 1008x432 with 1 Axes>"
      ]
     },
     "metadata": {
      "needs_background": "light"
     },
     "output_type": "display_data"
    }
   ],
   "source": [
    "all_p0_outcomes = np.vstack((p0_baseline, p0_outcomes))\n",
    "x = [0] + wvals\n",
    "leglabs = [f\"{x} qubits\" for x in nqubits_lst]\n",
    "markers = [',', 'x', '*', 'o', '*']\n",
    "\n",
    "fig, ax = plt.subplots(1, 1, figsize=(14, 6), constrained_layout=True)\n",
    "\n",
    "# p0 results\n",
    "for j, y in enumerate(all_p0_outcomes.T):\n",
    "    ax.scatter(x, y, label=leglabs[j], marker=markers[j], s=80)\n",
    "\n",
    "ax.set_xlabel(\"w: cutoff\")\n",
    "ax.set_xticks(x)\n",
    "ax.set_xticklabels(x)\n",
    "ax.semilogy()\n",
    "\n",
    "ax.set_ylim(0, ax.get_ylim()[1])\n",
    "\n",
    "ax.set_ylabel(r\"Relative error $|p_0 - \\tilde{p}_0| / p_0$\")\n",
    "ax.legend()\n",
    "fig.savefig(\"acc_plot_1.pdf\")\n",
    "print(p0_outcomes)"
   ]
  },
  {
   "cell_type": "code",
   "execution_count": 13,
   "metadata": {},
   "outputs": [],
   "source": [
    "fig.savefig(\"figures/figure1.pdf\")"
   ]
  },
  {
   "cell_type": "code",
   "execution_count": null,
   "metadata": {},
   "outputs": [],
   "source": []
  }
 ],
 "metadata": {
  "kernelspec": {
   "display_name": "Python 3",
   "language": "python",
   "name": "python3"
  },
  "language_info": {
   "codemirror_mode": {
    "name": "ipython",
    "version": 3
   },
   "file_extension": ".py",
   "mimetype": "text/x-python",
   "name": "python",
   "nbconvert_exporter": "python",
   "pygments_lexer": "ipython3",
   "version": "3.6.9"
  }
 },
 "nbformat": 4,
 "nbformat_minor": 2
}
